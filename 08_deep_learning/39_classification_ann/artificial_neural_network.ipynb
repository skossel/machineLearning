{
 "nbformat": 4,
 "nbformat_minor": 0,
 "metadata": {
  "colab": {
   "name": "artificial_neural_network.ipynb",
   "provenance": [],
   "collapsed_sections": [],
   "toc_visible": true,
   "authorship_tag": "ABX9TyMeRFWFoGrdaL5S3dx5MWmb"
  },
  "kernelspec": {
   "name": "python3",
   "display_name": "Python 3"
  }
 },
 "cells": [
  {
   "cell_type": "markdown",
   "metadata": {
    "id": "lP6JLo1tGNBg",
    "colab_type": "text"
   },
   "source": [
    "# Artificial Neural Network"
   ]
  },
  {
   "cell_type": "markdown",
   "metadata": {
    "id": "gWZyYmS_UE_L",
    "colab_type": "text"
   },
   "source": [
    "### Importing the libraries"
   ]
  },
  {
   "metadata": {
    "ExecuteTime": {
     "end_time": "2025-08-28T07:09:48.074768Z",
     "start_time": "2025-08-28T07:09:44.366852Z"
    }
   },
   "cell_type": "code",
   "source": [
    "import numpy as np\n",
    "import pandas as pd\n",
    "import tensorflow as tf\n"
   ],
   "outputs": [],
   "execution_count": 1
  },
  {
   "metadata": {
    "ExecuteTime": {
     "end_time": "2025-08-28T07:09:48.242858Z",
     "start_time": "2025-08-28T07:09:48.227662Z"
    }
   },
   "cell_type": "code",
   "source": [
    "# prints the version of tensorflow\n",
    "tf.__version__"
   ],
   "outputs": [
    {
     "data": {
      "text/plain": [
       "'2.20.0'"
      ]
     },
     "execution_count": 2,
     "metadata": {},
     "output_type": "execute_result"
    }
   ],
   "execution_count": 2
  },
  {
   "cell_type": "markdown",
   "metadata": {
    "id": "1E0Q3aoKUCRX",
    "colab_type": "text"
   },
   "source": [
    "## Part 1 - Data Preprocessing"
   ]
  },
  {
   "cell_type": "markdown",
   "metadata": {
    "id": "cKWAkFVGUU0Z",
    "colab_type": "text"
   },
   "source": [
    "### Importing the dataset"
   ]
  },
  {
   "metadata": {
    "ExecuteTime": {
     "end_time": "2025-08-28T07:09:48.329772Z",
     "start_time": "2025-08-28T07:09:48.303180Z"
    }
   },
   "cell_type": "code",
   "source": [
    "dataset = pd.read_csv('Churn_Modelling.csv')\n",
    "# use all rows from index 3 to one index before the last index\n",
    "X = dataset.iloc[:, 3:-1].values\n",
    "y = dataset.iloc[:, -1].values"
   ],
   "outputs": [],
   "execution_count": 3
  },
  {
   "metadata": {
    "ExecuteTime": {
     "end_time": "2025-08-28T07:09:48.504664Z",
     "start_time": "2025-08-28T07:09:48.496339Z"
    }
   },
   "cell_type": "code",
   "source": "print(X)",
   "outputs": [
    {
     "name": "stdout",
     "output_type": "stream",
     "text": [
      "[[619 'France' 'Female' ... 1 1 101348.88]\n",
      " [608 'Spain' 'Female' ... 0 1 112542.58]\n",
      " [502 'France' 'Female' ... 1 0 113931.57]\n",
      " ...\n",
      " [709 'France' 'Female' ... 0 1 42085.58]\n",
      " [772 'Germany' 'Male' ... 1 0 92888.52]\n",
      " [792 'France' 'Female' ... 1 0 38190.78]]\n"
     ]
    }
   ],
   "execution_count": 4
  },
  {
   "metadata": {
    "ExecuteTime": {
     "end_time": "2025-08-28T07:09:48.570248Z",
     "start_time": "2025-08-28T07:09:48.566252Z"
    }
   },
   "cell_type": "code",
   "source": "print(y)",
   "outputs": [
    {
     "name": "stdout",
     "output_type": "stream",
     "text": [
      "[1 0 1 ... 1 1 0]\n"
     ]
    }
   ],
   "execution_count": 5
  },
  {
   "cell_type": "markdown",
   "metadata": {
    "id": "N6bQ0UgSU-NJ",
    "colab_type": "text"
   },
   "source": [
    "### Encoding categorical data"
   ]
  },
  {
   "cell_type": "markdown",
   "metadata": {
    "id": "le5MJreAbW52",
    "colab_type": "text"
   },
   "source": [
    "Label Encoding the \"Gender\" column"
   ]
  },
  {
   "metadata": {
    "ExecuteTime": {
     "end_time": "2025-08-28T07:09:48.665984Z",
     "start_time": "2025-08-28T07:09:48.641093Z"
    }
   },
   "cell_type": "code",
   "source": [
    "from sklearn.preprocessing import LabelEncoder\n",
    "# male and female habe a relation, therefore the LabelEncoder is suitable\n",
    "le = LabelEncoder()\n",
    "X[:, 2] = le.fit_transform(X[:, 2])"
   ],
   "outputs": [],
   "execution_count": 6
  },
  {
   "metadata": {
    "ExecuteTime": {
     "end_time": "2025-08-28T07:09:48.708661Z",
     "start_time": "2025-08-28T07:09:48.700099Z"
    }
   },
   "cell_type": "code",
   "source": "print(X)",
   "outputs": [
    {
     "name": "stdout",
     "output_type": "stream",
     "text": [
      "[[619 'France' 0 ... 1 1 101348.88]\n",
      " [608 'Spain' 0 ... 0 1 112542.58]\n",
      " [502 'France' 0 ... 1 0 113931.57]\n",
      " ...\n",
      " [709 'France' 0 ... 0 1 42085.58]\n",
      " [772 'Germany' 1 ... 1 0 92888.52]\n",
      " [792 'France' 0 ... 1 0 38190.78]]\n"
     ]
    }
   ],
   "execution_count": 7
  },
  {
   "cell_type": "markdown",
   "metadata": {
    "id": "CUxGZezpbMcb",
    "colab_type": "text"
   },
   "source": [
    "One Hot Encoding the \"Geography\" column"
   ]
  },
  {
   "metadata": {
    "ExecuteTime": {
     "end_time": "2025-08-28T07:09:48.940765Z",
     "start_time": "2025-08-28T07:09:48.765453Z"
    }
   },
   "cell_type": "code",
   "source": [
    "from sklearn.compose import ColumnTransformer\n",
    "from sklearn.preprocessing import OneHotEncoder\n",
    "# [1]: the index of the column which the one hot encoding will be applied\n",
    "ct = ColumnTransformer(transformers = [('encoder', OneHotEncoder(), [1])], remainder = 'passthrough')\n",
    "# I use one-hot encoding here since countries have no relationship.\n",
    "X = np.array(ct.fit_transform(X))"
   ],
   "outputs": [],
   "execution_count": 8
  },
  {
   "metadata": {
    "ExecuteTime": {
     "end_time": "2025-08-28T07:09:48.974364Z",
     "start_time": "2025-08-28T07:09:48.966841Z"
    }
   },
   "cell_type": "code",
   "source": "print(X)",
   "outputs": [
    {
     "name": "stdout",
     "output_type": "stream",
     "text": [
      "[[1.0 0.0 0.0 ... 1 1 101348.88]\n",
      " [0.0 0.0 1.0 ... 0 1 112542.58]\n",
      " [1.0 0.0 0.0 ... 1 0 113931.57]\n",
      " ...\n",
      " [1.0 0.0 0.0 ... 0 1 42085.58]\n",
      " [0.0 1.0 0.0 ... 1 0 92888.52]\n",
      " [1.0 0.0 0.0 ... 1 0 38190.78]]\n"
     ]
    }
   ],
   "execution_count": 9
  },
  {
   "cell_type": "markdown",
   "metadata": {
    "id": "vHol938cW8zd",
    "colab_type": "text"
   },
   "source": [
    "### Splitting the dataset into the Training set and Test set"
   ]
  },
  {
   "metadata": {
    "ExecuteTime": {
     "end_time": "2025-08-28T07:09:49.035641Z",
     "start_time": "2025-08-28T07:09:49.028596Z"
    }
   },
   "cell_type": "code",
   "source": [
    "from sklearn.model_selection import train_test_split\n",
    "\n",
    "X_train, X_test, y_train, y_test = train_test_split(X, y, test_size = 0.2, random_state = 0)"
   ],
   "outputs": [],
   "execution_count": 10
  },
  {
   "cell_type": "markdown",
   "metadata": {
    "id": "RE_FcHyfV3TQ",
    "colab_type": "text"
   },
   "source": [
    "### Feature Scaling"
   ]
  },
  {
   "metadata": {
    "ExecuteTime": {
     "end_time": "2025-08-28T07:09:49.069028Z",
     "start_time": "2025-08-28T07:09:49.057292Z"
    }
   },
   "cell_type": "code",
   "source": [
    "from sklearn.preprocessing import StandardScaler\n",
    "sc = StandardScaler()\n",
    "# fit_transform: train and apply\n",
    "X_train = sc.fit_transform(X_train)\n",
    "# only apply because it don't need training\n",
    "X_test = sc.transform(X_test)"
   ],
   "outputs": [],
   "execution_count": 11
  },
  {
   "cell_type": "markdown",
   "metadata": {
    "id": "-zfEzkRVXIwF",
    "colab_type": "text"
   },
   "source": [
    "## Part 2 - Building the ANN"
   ]
  },
  {
   "cell_type": "markdown",
   "metadata": {
    "id": "KvdeScabXtlB",
    "colab_type": "text"
   },
   "source": [
    "### Initializing the ANN"
   ]
  },
  {
   "metadata": {
    "ExecuteTime": {
     "end_time": "2025-08-28T07:09:49.118596Z",
     "start_time": "2025-08-28T07:09:49.108496Z"
    }
   },
   "cell_type": "code",
   "source": "ann = tf.keras.models.Sequential()",
   "outputs": [],
   "execution_count": 12
  },
  {
   "cell_type": "markdown",
   "metadata": {
    "id": "rP6urV6SX7kS",
    "colab_type": "text"
   },
   "source": [
    "### Adding the input layer and the first hidden layer"
   ]
  },
  {
   "metadata": {
    "ExecuteTime": {
     "end_time": "2025-08-28T07:09:49.176841Z",
     "start_time": "2025-08-28T07:09:49.168280Z"
    }
   },
   "cell_type": "code",
   "source": [
    "# first hidden layer, units: number of neurons for this layer\n",
    "ann.add(tf.keras.layers.Dense(units = 6, activation = 'relu'))"
   ],
   "outputs": [],
   "execution_count": 13
  },
  {
   "cell_type": "markdown",
   "metadata": {
    "id": "BELWAc_8YJze",
    "colab_type": "text"
   },
   "source": "### Adding the second hidden layer (will be deep)"
  },
  {
   "metadata": {
    "ExecuteTime": {
     "end_time": "2025-08-28T07:09:49.230952Z",
     "start_time": "2025-08-28T07:09:49.224418Z"
    }
   },
   "cell_type": "code",
   "source": "ann.add(tf.keras.layers.Dense(units = 6, activation = 'relu'))",
   "outputs": [],
   "execution_count": 14
  },
  {
   "cell_type": "markdown",
   "metadata": {
    "id": "OyNEe6RXYcU4",
    "colab_type": "text"
   },
   "source": [
    "### Adding the output layer"
   ]
  },
  {
   "metadata": {
    "ExecuteTime": {
     "end_time": "2025-08-28T07:09:49.289840Z",
     "start_time": "2025-08-28T07:09:49.279410Z"
    }
   },
   "cell_type": "code",
   "source": [
    "# for classification output there should be a one hot endcoding output e.g. countries spain, french, germany. Therefore the output layer will have 3 neurons (units) -> for spain 1:0:0, french 0:1:0, germany 0:0:1\n",
    "# sigmoid: get the probability between the range of 0 to 1. Note: for a categorial output the activation function for the output layer should be soft_max\n",
    "\n",
    "ann.add(tf.keras.layers.Dense(units = 1, activation = 'sigmoid'))"
   ],
   "outputs": [],
   "execution_count": 15
  },
  {
   "cell_type": "markdown",
   "metadata": {
    "id": "JT4u2S1_Y4WG",
    "colab_type": "text"
   },
   "source": "## Part 3 - Training the ANN (Artificial Neural Network)"
  },
  {
   "cell_type": "markdown",
   "metadata": {
    "id": "8GWlJChhY_ZI",
    "colab_type": "text"
   },
   "source": [
    "### Compiling the ANN"
   ]
  },
  {
   "metadata": {
    "ExecuteTime": {
     "end_time": "2025-08-28T07:09:49.425147Z",
     "start_time": "2025-08-28T07:09:49.352491Z"
    }
   },
   "cell_type": "code",
   "source": [
    "# optimizer: kind of gradient descent algorithm you want to use. Adam is ein example for a gradient descent algorithm\n",
    "# loss: kind of loss function to use. binary_crossentropy is used for a binary output.\n",
    "# metrics: all metrics will be calculated after each training epoch. After the training you can analyze how the metrics changes after each epochs.\n",
    "# Accuracy Metric: Number of correct predictions between 0 and 1.\n",
    "ann.compile(optimizer = 'adam', loss = 'binary_crossentropy',metrics = ['accuracy'])"
   ],
   "outputs": [],
   "execution_count": 16
  },
  {
   "cell_type": "markdown",
   "metadata": {
    "id": "0QR_G5u7ZLSM",
    "colab_type": "text"
   },
   "source": [
    "### Training the ANN on the Training set"
   ]
  },
  {
   "metadata": {
    "ExecuteTime": {
     "end_time": "2025-08-28T07:09:49.457863Z",
     "start_time": "2025-08-28T07:09:49.444324Z"
    }
   },
   "cell_type": "code",
   "source": "print(X_train)",
   "outputs": [
    {
     "name": "stdout",
     "output_type": "stream",
     "text": [
      "[[-1.01460667 -0.5698444   1.74309049 ...  0.64259497 -1.03227043\n",
      "   1.10643166]\n",
      " [-1.01460667  1.75486502 -0.57369368 ...  0.64259497  0.9687384\n",
      "  -0.74866447]\n",
      " [ 0.98560362 -0.5698444  -0.57369368 ...  0.64259497 -1.03227043\n",
      "   1.48533467]\n",
      " ...\n",
      " [ 0.98560362 -0.5698444  -0.57369368 ...  0.64259497 -1.03227043\n",
      "   1.41231994]\n",
      " [-1.01460667 -0.5698444   1.74309049 ...  0.64259497  0.9687384\n",
      "   0.84432121]\n",
      " [-1.01460667  1.75486502 -0.57369368 ...  0.64259497 -1.03227043\n",
      "   0.32472465]]\n"
     ]
    }
   ],
   "execution_count": 17
  },
  {
   "metadata": {
    "ExecuteTime": {
     "end_time": "2025-08-28T07:09:49.544174Z",
     "start_time": "2025-08-28T07:09:49.537656Z"
    }
   },
   "cell_type": "code",
   "source": "print(y_train)",
   "outputs": [
    {
     "name": "stdout",
     "output_type": "stream",
     "text": [
      "[0 0 0 ... 0 0 1]\n"
     ]
    }
   ],
   "execution_count": 18
  },
  {
   "metadata": {
    "jupyter": {
     "is_executing": true
    },
    "ExecuteTime": {
     "start_time": "2025-08-28T07:09:49.670697Z"
    }
   },
   "cell_type": "code",
   "source": [
    "# batch: a part of the whole dataset for example: 30 data points of 10'000\n",
    "# batch_size = 32: The whole dataset will be splitted in subsets of 32 datapoints per subset. The weight will be only changed when the 32 datapoints have predicted their output variable.\n",
    "# epochs: Number of iterations for training the whole dataset. E.g. 100 means the whole dataset of 10'000 rows will be trained 100 times. Each epoch is splitted in batches.\n",
    "ann.fit(X_train, y_train, batch_size = 32, epochs = 100)\n"
   ],
   "outputs": [
    {
     "name": "stdout",
     "output_type": "stream",
     "text": [
      "Epoch 1/100\n",
      "\u001B[1m250/250\u001B[0m \u001B[32m━━━━━━━━━━━━━━━━━━━━\u001B[0m\u001B[37m\u001B[0m \u001B[1m1s\u001B[0m 1ms/step - accuracy: 0.6716 - loss: 0.6325\n",
      "Epoch 2/100\n",
      "\u001B[1m250/250\u001B[0m \u001B[32m━━━━━━━━━━━━━━━━━━━━\u001B[0m\u001B[37m\u001B[0m \u001B[1m0s\u001B[0m 984us/step - accuracy: 0.7960 - loss: 0.4811\n",
      "Epoch 3/100\n",
      "\u001B[1m250/250\u001B[0m \u001B[32m━━━━━━━━━━━━━━━━━━━━\u001B[0m\u001B[37m\u001B[0m \u001B[1m0s\u001B[0m 916us/step - accuracy: 0.7960 - loss: 0.4491\n",
      "Epoch 4/100\n",
      "\u001B[1m 78/250\u001B[0m \u001B[32m━━━━━━\u001B[0m\u001B[37m━━━━━━━━━━━━━━\u001B[0m \u001B[1m0s\u001B[0m 1ms/step - accuracy: 0.8027 - loss: 0.4237"
     ]
    }
   ],
   "execution_count": null
  },
  {
   "cell_type": "markdown",
   "metadata": {
    "id": "tJj5k2MxZga3",
    "colab_type": "text"
   },
   "source": [
    "## Part 4 - Making the predictions and evaluating the model"
   ]
  },
  {
   "cell_type": "markdown",
   "metadata": {
    "id": "84QFoqGYeXHL",
    "colab_type": "text"
   },
   "source": [
    "### Predicting the result of a single observation"
   ]
  },
  {
   "cell_type": "markdown",
   "metadata": {
    "id": "CGRo3eacgDdC",
    "colab_type": "text"
   },
   "source": [
    "**Homework**\n",
    "\n",
    "Use our ANN model to predict if the customer with the following informations will leave the bank: \n",
    "\n",
    "Geography: France\n",
    "\n",
    "Credit Score: 600\n",
    "\n",
    "Gender: Male\n",
    "\n",
    "Age: 40 years old\n",
    "\n",
    "Tenure: 3 years\n",
    "\n",
    "Balance: \\$ 60000\n",
    "\n",
    "Number of Products: 2\n",
    "\n",
    "Does this customer have a credit card? Yes\n",
    "\n",
    "Is this customer an Active Member: Yes\n",
    "\n",
    "Estimated Salary: \\$ 50000\n",
    "\n",
    "So, should we say goodbye to that customer?"
   ]
  },
  {
   "cell_type": "markdown",
   "metadata": {
    "id": "ZhU1LTgPg-kH",
    "colab_type": "text"
   },
   "source": [
    "**Solution**"
   ]
  },
  {
   "metadata": {
    "ExecuteTime": {
     "end_time": "2025-08-28T07:09:51.661456700Z",
     "start_time": "2025-08-25T12:19:46.241621Z"
    }
   },
   "cell_type": "code",
   "source": [
    "X_prediction = [[1, 0 , 0, 600, 1, 40, 3, 60000, 2, 1, 1, 50000]]\n",
    "X_prediction_scaled = sc.transform(X_prediction)\n",
    "print(ann.predict(X_prediction_scaled) > 0.5)"
   ],
   "outputs": [
    {
     "name": "stdout",
     "output_type": "stream",
     "text": [
      "\u001B[1m1/1\u001B[0m \u001B[32m━━━━━━━━━━━━━━━━━━━━\u001B[0m\u001B[37m\u001B[0m \u001B[1m0s\u001B[0m 59ms/step\n",
      "[[False]]\n"
     ]
    }
   ],
   "execution_count": 71
  },
  {
   "cell_type": "markdown",
   "metadata": {
    "id": "wGjx94g2n7OV",
    "colab_type": "text"
   },
   "source": [
    "Therefore, our ANN model predicts that this customer stays in the bank!\n",
    "\n",
    "**Important note 1:** Notice that the values of the features were all input in a double pair of square brackets. That's because the \"predict\" method always expects a 2D array as the format of its inputs. And putting our values into a double pair of square brackets makes the input exactly a 2D array.\n",
    "\n",
    "**Important note 2:** Notice also that the \"France\" country was not input as a string in the last column but as \"1, 0, 0\" in the first three columns. That's because of course the predict method expects the one-hot-encoded values of the state, and as we see in the first row of the matrix of features X, \"France\" was encoded as \"1, 0, 0\". And be careful to include these values in the first three columns, because the dummy variables are always created in the first columns."
   ]
  },
  {
   "cell_type": "markdown",
   "metadata": {
    "id": "u7yx47jPZt11",
    "colab_type": "text"
   },
   "source": [
    "### Predicting the Test set results"
   ]
  },
  {
   "metadata": {
    "ExecuteTime": {
     "end_time": "2025-08-28T07:09:51.663425200Z",
     "start_time": "2025-08-25T12:19:46.406570Z"
    }
   },
   "cell_type": "code",
   "source": [
    "y_pred = ann.predict(X_test) > 0.5\n",
    "print(np.concatenate((y_pred.reshape(len(y_pred), 1), y_test.reshape(len(y_test), 1)), 1))"
   ],
   "outputs": [
    {
     "name": "stdout",
     "output_type": "stream",
     "text": [
      "\u001B[1m63/63\u001B[0m \u001B[32m━━━━━━━━━━━━━━━━━━━━\u001B[0m\u001B[37m\u001B[0m \u001B[1m0s\u001B[0m 976us/step\n",
      "[[0 0]\n",
      " [0 1]\n",
      " [0 0]\n",
      " ...\n",
      " [0 0]\n",
      " [0 0]\n",
      " [0 0]]\n"
     ]
    }
   ],
   "execution_count": 72
  },
  {
   "cell_type": "markdown",
   "metadata": {
    "id": "o0oyfLWoaEGw",
    "colab_type": "text"
   },
   "source": [
    "### Making the Confusion Matrix"
   ]
  },
  {
   "metadata": {
    "ExecuteTime": {
     "end_time": "2025-08-28T07:09:51.664425800Z",
     "start_time": "2025-08-25T12:19:46.584955Z"
    }
   },
   "cell_type": "code",
   "source": [
    "from sklearn.metrics import confusion_matrix, accuracy_score\n",
    "cm = confusion_matrix(y_test, y_pred)\n",
    "print(cm)\n",
    "accuracy_score(y_test, y_pred)"
   ],
   "outputs": [
    {
     "name": "stdout",
     "output_type": "stream",
     "text": [
      "[[1514   81]\n",
      " [ 203  202]]\n"
     ]
    },
    {
     "data": {
      "text/plain": [
       "0.858"
      ]
     },
     "execution_count": 73,
     "metadata": {},
     "output_type": "execute_result"
    }
   ],
   "execution_count": 73
  }
 ]
}
