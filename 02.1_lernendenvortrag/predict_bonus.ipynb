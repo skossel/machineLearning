{
 "cells": [
  {
   "metadata": {},
   "cell_type": "markdown",
   "source": "# Wer hat sich einen Bonus verdient?",
   "id": "c143743b5657eabf"
  },
  {
   "metadata": {},
   "cell_type": "markdown",
   "source": "## Datensatz importieren",
   "id": "1d1636ce78c4ab6f"
  },
  {
   "metadata": {
    "ExecuteTime": {
     "end_time": "2025-05-22T08:05:39.386887Z",
     "start_time": "2025-05-22T08:05:39.374190Z"
    }
   },
   "cell_type": "code",
   "source": [
    "import pandas as pd\n",
    "\n",
    "dataset = pd.read_csv('predict_bonus.csv', sep=';')"
   ],
   "id": "cfcf690107d7c942",
   "outputs": [],
   "execution_count": 122
  },
  {
   "metadata": {},
   "cell_type": "markdown",
   "source": "## Aufteilung in Features and Labels",
   "id": "1f88eba7b42613b7"
  },
  {
   "metadata": {
    "ExecuteTime": {
     "end_time": "2025-05-22T08:05:39.407306Z",
     "start_time": "2025-05-22T08:05:39.399046Z"
    }
   },
   "cell_type": "code",
   "source": [
    "X = dataset.iloc[:, :-1].values\n",
    "y = dataset.iloc[:, -1].values"
   ],
   "id": "1c81fc24c1168aff",
   "outputs": [],
   "execution_count": 123
  },
  {
   "metadata": {
    "ExecuteTime": {
     "end_time": "2025-05-22T08:05:39.463092Z",
     "start_time": "2025-05-22T08:05:39.452833Z"
    }
   },
   "cell_type": "code",
   "source": "print(X)",
   "id": "def39a8e8d23884a",
   "outputs": [
    {
     "name": "stdout",
     "output_type": "stream",
     "text": [
      "[['erfuellt' 'erfuellt' 'uebertroffen' 'uebertroffen' 'erfuellt'\n",
      "  'erfuellt' 'erfuellt' 5.0 5.5 5.0 4.75 5.5 5.0 5.5 6.0 5.75]\n",
      " ['erfuellt' 'erfuellt' 'erfuellt' 'erfuellt' 'erfuellt' 'erfuellt'\n",
      "  'uebertroffen' 4.5 5.5 5.5 5.0 5.5 5.5 6.0 5.5 6.0]\n",
      " ['erfuellt' 'nicht erfuellt' 'uebertroffen' 'erfuellt' 'knapp erfuellt'\n",
      "  'erfuellt' 'knapp erfuellt' nan 4.5 3.5 4.5 5.0 4.5 4.5 4.5 5.5]\n",
      " ['erfuellt' 'erfuellt' 'nicht erfuellt' 'erfuellt' 'knapp erfuellt'\n",
      "  'erfuellt' 'erfuellt' 5.0 5.0 5.0 4.5 4.0 4.5 5.0 5.5 5.0]\n",
      " ['erfuellt' 'uebertroffen' 'knapp erfuellt' 'erfuellt' 'knapp erfuellt'\n",
      "  'uebertroffen' 'erfuellt' 5.0 4.0 4.5 5.0 4.5 5.0 4.5 6.0 4.5]\n",
      " ['erfuellt' 'uebertroffen' 'erfuellt' 'erfuellt' 'erfuellt'\n",
      "  'uebertroffen' 'erfuellt' 5.0 5.0 5.0 5.0 6.0 5.5 5.0 5.5 5.25]\n",
      " ['erfuellt' 'nicht erfuellt' 'erfuellt' 'knapp erfuellt'\n",
      "  'knapp erfuellt' 'erfuellt' 'erfuellt' 3.0 4.5 4.5 5.0 5.5 4.0 4.0 4.5\n",
      "  5.25]\n",
      " ['erfuellt' 'nicht erfuellt' 'erfuellt' 'knapp erfuellt'\n",
      "  'knapp erfuellt' 'erfuellt' 'erfuellt' 4.5 3.5 5.0 4.5 4.5 4.5 4.0 4.0\n",
      "  4.75]]\n"
     ]
    }
   ],
   "execution_count": 124
  },
  {
   "metadata": {
    "ExecuteTime": {
     "end_time": "2025-05-22T08:05:39.571557Z",
     "start_time": "2025-05-22T08:05:39.565294Z"
    }
   },
   "cell_type": "code",
   "source": "print(y)",
   "id": "acfacc32fe63a02c",
   "outputs": [
    {
     "name": "stdout",
     "output_type": "stream",
     "text": [
      "[1.  1.  0.  1.  0.5 0.5 0.  0.5]\n"
     ]
    }
   ],
   "execution_count": 125
  },
  {
   "metadata": {},
   "cell_type": "markdown",
   "source": "## Umgang mit kategorialen Daten (Bildungsziele)",
   "id": "9d4161ded52d75a4"
  },
  {
   "metadata": {
    "ExecuteTime": {
     "end_time": "2025-05-22T08:05:39.703524Z",
     "start_time": "2025-05-22T08:05:39.685987Z"
    }
   },
   "cell_type": "code",
   "source": [
    "from sklearn.compose import ColumnTransformer\n",
    "from sklearn.preprocessing import OrdinalEncoder, FunctionTransformer\n",
    "from sklearn.pipeline import make_pipeline\n",
    "\n",
    "categories = ['nicht erfuellt', 'knapp erfuellt', 'erfuellt', 'uebertroffen']\n",
    "all_category_columns = [categories] * 7\n",
    "\n",
    "ord_pipe = make_pipeline(\n",
    "    OrdinalEncoder(categories=all_category_columns),\n",
    "    FunctionTransformer(lambda X: X + 3)\n",
    ")\n",
    "\n",
    "ct = ColumnTransformer(\n",
    "    transformers=[\n",
    "        ('ord', ord_pipe, list(range(7)))\n",
    "    ],\n",
    "    remainder='passthrough'\n",
    ")\n",
    "\n",
    "X = ct.fit_transform(X)"
   ],
   "id": "c39fe9b6942030f0",
   "outputs": [],
   "execution_count": 126
  },
  {
   "metadata": {
    "ExecuteTime": {
     "end_time": "2025-05-22T08:05:39.724927Z",
     "start_time": "2025-05-22T08:05:39.717812Z"
    }
   },
   "cell_type": "code",
   "source": "print('Matrix of features: \\n' + str(X))",
   "id": "ff55d4816efa83b6",
   "outputs": [
    {
     "name": "stdout",
     "output_type": "stream",
     "text": [
      "Matrix of features: \n",
      "[[5.0 5.0 6.0 6.0 5.0 5.0 5.0 5.0 5.5 5.0 4.75 5.5 5.0 5.5 6.0 5.75]\n",
      " [5.0 5.0 5.0 5.0 5.0 5.0 6.0 4.5 5.5 5.5 5.0 5.5 5.5 6.0 5.5 6.0]\n",
      " [5.0 3.0 6.0 5.0 4.0 5.0 4.0 nan 4.5 3.5 4.5 5.0 4.5 4.5 4.5 5.5]\n",
      " [5.0 5.0 3.0 5.0 4.0 5.0 5.0 5.0 5.0 5.0 4.5 4.0 4.5 5.0 5.5 5.0]\n",
      " [5.0 6.0 4.0 5.0 4.0 6.0 5.0 5.0 4.0 4.5 5.0 4.5 5.0 4.5 6.0 4.5]\n",
      " [5.0 6.0 5.0 5.0 5.0 6.0 5.0 5.0 5.0 5.0 5.0 6.0 5.5 5.0 5.5 5.25]\n",
      " [5.0 3.0 5.0 4.0 4.0 5.0 5.0 3.0 4.5 4.5 5.0 5.5 4.0 4.0 4.5 5.25]\n",
      " [5.0 3.0 5.0 4.0 4.0 5.0 5.0 4.5 3.5 5.0 4.5 4.5 4.5 4.0 4.0 4.75]]\n"
     ]
    }
   ],
   "execution_count": 127
  },
  {
   "metadata": {},
   "cell_type": "markdown",
   "source": "## Fehlende Daten",
   "id": "b44a12a6eb029eb6"
  },
  {
   "metadata": {
    "ExecuteTime": {
     "end_time": "2025-05-22T08:05:39.787247Z",
     "start_time": "2025-05-22T08:05:39.774784Z"
    }
   },
   "cell_type": "code",
   "source": [
    "from sklearn.impute import SimpleImputer\n",
    "import numpy as np\n",
    "imputer = SimpleImputer(missing_values=np.nan, strategy='mean')\n",
    "imputer.fit(X[:, :])\n",
    "X[:, :] = np.round(imputer.transform(X[:, :]), 2)"
   ],
   "id": "304a3a59ae7c097d",
   "outputs": [],
   "execution_count": 128
  },
  {
   "metadata": {
    "ExecuteTime": {
     "end_time": "2025-05-22T08:05:39.915320Z",
     "start_time": "2025-05-22T08:05:39.902316Z"
    }
   },
   "cell_type": "code",
   "source": "print(X)",
   "id": "f58849614c2a7c14",
   "outputs": [
    {
     "name": "stdout",
     "output_type": "stream",
     "text": [
      "[[5.0 5.0 6.0 6.0 5.0 5.0 5.0 5.0 5.5 5.0 4.75 5.5 5.0 5.5 6.0 5.75]\n",
      " [5.0 5.0 5.0 5.0 5.0 5.0 6.0 4.5 5.5 5.5 5.0 5.5 5.5 6.0 5.5 6.0]\n",
      " [5.0 3.0 6.0 5.0 4.0 5.0 4.0 4.57 4.5 3.5 4.5 5.0 4.5 4.5 4.5 5.5]\n",
      " [5.0 5.0 3.0 5.0 4.0 5.0 5.0 5.0 5.0 5.0 4.5 4.0 4.5 5.0 5.5 5.0]\n",
      " [5.0 6.0 4.0 5.0 4.0 6.0 5.0 5.0 4.0 4.5 5.0 4.5 5.0 4.5 6.0 4.5]\n",
      " [5.0 6.0 5.0 5.0 5.0 6.0 5.0 5.0 5.0 5.0 5.0 6.0 5.5 5.0 5.5 5.25]\n",
      " [5.0 3.0 5.0 4.0 4.0 5.0 5.0 3.0 4.5 4.5 5.0 5.5 4.0 4.0 4.5 5.25]\n",
      " [5.0 3.0 5.0 4.0 4.0 5.0 5.0 4.5 3.5 5.0 4.5 4.5 4.5 4.0 4.0 4.75]]\n"
     ]
    }
   ],
   "execution_count": 129
  },
  {
   "metadata": {},
   "cell_type": "markdown",
   "source": "## Aufteilung in Trainings- und Testset",
   "id": "65d60abcea8f34f8"
  },
  {
   "metadata": {
    "ExecuteTime": {
     "end_time": "2025-05-22T08:05:39.957002Z",
     "start_time": "2025-05-22T08:05:39.948942Z"
    }
   },
   "cell_type": "code",
   "source": [
    "from sklearn.model_selection import train_test_split\n",
    "X_train, X_test, y_train, y_test = train_test_split(X, y, test_size=0.33, random_state=1)"
   ],
   "id": "fd97f304754f0e2c",
   "outputs": [],
   "execution_count": 130
  },
  {
   "metadata": {
    "ExecuteTime": {
     "end_time": "2025-05-22T08:05:40.007628Z",
     "start_time": "2025-05-22T08:05:39.998713Z"
    }
   },
   "cell_type": "code",
   "source": "print(X_train)",
   "id": "48b8764478b849eb",
   "outputs": [
    {
     "name": "stdout",
     "output_type": "stream",
     "text": [
      "[[5.0 3.0 5.0 4.0 4.0 5.0 5.0 3.0 4.5 4.5 5.0 5.5 4.0 4.0 4.5 5.25]\n",
      " [5.0 5.0 6.0 6.0 5.0 5.0 5.0 5.0 5.5 5.0 4.75 5.5 5.0 5.5 6.0 5.75]\n",
      " [5.0 6.0 4.0 5.0 4.0 6.0 5.0 5.0 4.0 4.5 5.0 4.5 5.0 4.5 6.0 4.5]\n",
      " [5.0 5.0 3.0 5.0 4.0 5.0 5.0 5.0 5.0 5.0 4.5 4.0 4.5 5.0 5.5 5.0]\n",
      " [5.0 6.0 5.0 5.0 5.0 6.0 5.0 5.0 5.0 5.0 5.0 6.0 5.5 5.0 5.5 5.25]]\n"
     ]
    }
   ],
   "execution_count": 131
  },
  {
   "metadata": {
    "ExecuteTime": {
     "end_time": "2025-05-22T08:05:40.080968Z",
     "start_time": "2025-05-22T08:05:40.067155Z"
    }
   },
   "cell_type": "code",
   "source": "print(X_test)",
   "id": "c9eaddd35dcd8c9b",
   "outputs": [
    {
     "name": "stdout",
     "output_type": "stream",
     "text": [
      "[[5.0 3.0 5.0 4.0 4.0 5.0 5.0 4.5 3.5 5.0 4.5 4.5 4.5 4.0 4.0 4.75]\n",
      " [5.0 3.0 6.0 5.0 4.0 5.0 4.0 4.57 4.5 3.5 4.5 5.0 4.5 4.5 4.5 5.5]\n",
      " [5.0 5.0 5.0 5.0 5.0 5.0 6.0 4.5 5.5 5.5 5.0 5.5 5.5 6.0 5.5 6.0]]\n"
     ]
    }
   ],
   "execution_count": 132
  },
  {
   "metadata": {
    "ExecuteTime": {
     "end_time": "2025-05-22T08:05:40.137235Z",
     "start_time": "2025-05-22T08:05:40.128327Z"
    }
   },
   "cell_type": "code",
   "source": "print(y_train)",
   "id": "ec5d829f8a9975d3",
   "outputs": [
    {
     "name": "stdout",
     "output_type": "stream",
     "text": [
      "[0.  1.  0.5 1.  0.5]\n"
     ]
    }
   ],
   "execution_count": 133
  },
  {
   "metadata": {
    "ExecuteTime": {
     "end_time": "2025-05-22T08:05:40.208607Z",
     "start_time": "2025-05-22T08:05:40.199432Z"
    }
   },
   "cell_type": "code",
   "source": "print(y_test)",
   "id": "690f0e4ec9c37f90",
   "outputs": [
    {
     "name": "stdout",
     "output_type": "stream",
     "text": [
      "[0.5 0.  1. ]\n"
     ]
    }
   ],
   "execution_count": 134
  },
  {
   "metadata": {},
   "cell_type": "markdown",
   "source": "## Feature Scaling",
   "id": "e92aa5e7bf003d5b"
  },
  {
   "metadata": {
    "ExecuteTime": {
     "end_time": "2025-05-22T08:05:40.282365Z",
     "start_time": "2025-05-22T08:05:40.270378Z"
    }
   },
   "cell_type": "code",
   "source": [
    "from sklearn.preprocessing import StandardScaler\n",
    "sc = StandardScaler()\n",
    "X_train[:, :] = sc.fit_transform(X_train[:, :])\n",
    "X_test[:, :] = sc.transform(X_test[:, :])"
   ],
   "id": "89842c71517a95c9",
   "outputs": [],
   "execution_count": 135
  },
  {
   "metadata": {
    "ExecuteTime": {
     "end_time": "2025-05-22T08:05:40.400579Z",
     "start_time": "2025-05-22T08:05:40.387510Z"
    }
   },
   "cell_type": "code",
   "source": [
    "import numpy as np\n",
    "\n",
    "X_train = X_train.astype(np.float64)\n",
    "X_test  = X_test .astype(np.float64)\n",
    "\n",
    "np.set_printoptions(precision=2, suppress=True)\n",
    "\n",
    "print(X_train)\n"
   ],
   "id": "6fb75140771373e2",
   "outputs": [
    {
     "name": "stdout",
     "output_type": "stream",
     "text": [
      "[[ 0.   -1.83  0.39 -1.58 -0.82 -0.82  0.   -2.   -0.59 -1.22  0.75  0.54\n",
      "  -1.57 -1.57 -1.83  0.25]\n",
      " [ 0.    0.    1.37  1.58  1.22 -0.82  0.    0.5   1.37  0.82 -0.5   0.54\n",
      "   0.39  1.37  0.91  1.48]\n",
      " [ 0.    0.91 -0.59  0.   -0.82  1.22  0.    0.5  -1.57 -1.22  0.75 -0.82\n",
      "   0.39 -0.59  0.91 -1.6 ]\n",
      " [ 0.    0.   -1.57  0.   -0.82 -0.82  0.    0.5   0.39  0.82 -1.75 -1.5\n",
      "  -0.59  0.39  0.   -0.37]\n",
      " [ 0.    0.91  0.39  0.    1.22  1.22  0.    0.5   0.39  0.82  0.75  1.22\n",
      "   1.37  0.39  0.    0.25]]\n"
     ]
    }
   ],
   "execution_count": 136
  },
  {
   "metadata": {
    "ExecuteTime": {
     "end_time": "2025-05-22T08:05:40.418421Z",
     "start_time": "2025-05-22T08:05:40.410593Z"
    }
   },
   "cell_type": "code",
   "source": "print(X_test)",
   "id": "7c4435469097ade",
   "outputs": [
    {
     "name": "stdout",
     "output_type": "stream",
     "text": [
      "[[ 0.   -1.83  0.39 -1.58 -0.82 -0.82  0.   -0.12 -2.55  0.82 -1.75 -0.82\n",
      "  -0.59 -1.57 -2.74 -0.98]\n",
      " [ 0.   -1.83  1.37  0.   -0.82 -0.82 -1.   -0.04 -0.59 -5.31 -1.75 -0.14\n",
      "  -0.59 -0.59 -1.83  0.86]\n",
      " [ 0.    0.    0.39  0.    1.22 -0.82  1.   -0.12  1.37  2.86  0.75  0.54\n",
      "   1.37  2.35  0.    2.09]]\n"
     ]
    }
   ],
   "execution_count": 137
  },
  {
   "metadata": {},
   "cell_type": "markdown",
   "source": "## Multiple Linear Regression",
   "id": "2b21f7ea3b8dd1b1"
  },
  {
   "metadata": {},
   "cell_type": "markdown",
   "source": "### Training",
   "id": "dcfd81b1737bf762"
  },
  {
   "metadata": {
    "ExecuteTime": {
     "end_time": "2025-05-22T08:05:40.481649Z",
     "start_time": "2025-05-22T08:05:40.461311Z"
    }
   },
   "cell_type": "code",
   "source": [
    "from sklearn.linear_model import LinearRegression\n",
    "regressor = LinearRegression()\n",
    "regressor.fit(X_train, y_train)"
   ],
   "id": "8081f1c14451285f",
   "outputs": [
    {
     "data": {
      "text/plain": [
       "LinearRegression()"
      ],
      "text/html": [
       "<style>#sk-container-id-7 {\n",
       "  /* Definition of color scheme common for light and dark mode */\n",
       "  --sklearn-color-text: #000;\n",
       "  --sklearn-color-text-muted: #666;\n",
       "  --sklearn-color-line: gray;\n",
       "  /* Definition of color scheme for unfitted estimators */\n",
       "  --sklearn-color-unfitted-level-0: #fff5e6;\n",
       "  --sklearn-color-unfitted-level-1: #f6e4d2;\n",
       "  --sklearn-color-unfitted-level-2: #ffe0b3;\n",
       "  --sklearn-color-unfitted-level-3: chocolate;\n",
       "  /* Definition of color scheme for fitted estimators */\n",
       "  --sklearn-color-fitted-level-0: #f0f8ff;\n",
       "  --sklearn-color-fitted-level-1: #d4ebff;\n",
       "  --sklearn-color-fitted-level-2: #b3dbfd;\n",
       "  --sklearn-color-fitted-level-3: cornflowerblue;\n",
       "\n",
       "  /* Specific color for light theme */\n",
       "  --sklearn-color-text-on-default-background: var(--sg-text-color, var(--theme-code-foreground, var(--jp-content-font-color1, black)));\n",
       "  --sklearn-color-background: var(--sg-background-color, var(--theme-background, var(--jp-layout-color0, white)));\n",
       "  --sklearn-color-border-box: var(--sg-text-color, var(--theme-code-foreground, var(--jp-content-font-color1, black)));\n",
       "  --sklearn-color-icon: #696969;\n",
       "\n",
       "  @media (prefers-color-scheme: dark) {\n",
       "    /* Redefinition of color scheme for dark theme */\n",
       "    --sklearn-color-text-on-default-background: var(--sg-text-color, var(--theme-code-foreground, var(--jp-content-font-color1, white)));\n",
       "    --sklearn-color-background: var(--sg-background-color, var(--theme-background, var(--jp-layout-color0, #111)));\n",
       "    --sklearn-color-border-box: var(--sg-text-color, var(--theme-code-foreground, var(--jp-content-font-color1, white)));\n",
       "    --sklearn-color-icon: #878787;\n",
       "  }\n",
       "}\n",
       "\n",
       "#sk-container-id-7 {\n",
       "  color: var(--sklearn-color-text);\n",
       "}\n",
       "\n",
       "#sk-container-id-7 pre {\n",
       "  padding: 0;\n",
       "}\n",
       "\n",
       "#sk-container-id-7 input.sk-hidden--visually {\n",
       "  border: 0;\n",
       "  clip: rect(1px 1px 1px 1px);\n",
       "  clip: rect(1px, 1px, 1px, 1px);\n",
       "  height: 1px;\n",
       "  margin: -1px;\n",
       "  overflow: hidden;\n",
       "  padding: 0;\n",
       "  position: absolute;\n",
       "  width: 1px;\n",
       "}\n",
       "\n",
       "#sk-container-id-7 div.sk-dashed-wrapped {\n",
       "  border: 1px dashed var(--sklearn-color-line);\n",
       "  margin: 0 0.4em 0.5em 0.4em;\n",
       "  box-sizing: border-box;\n",
       "  padding-bottom: 0.4em;\n",
       "  background-color: var(--sklearn-color-background);\n",
       "}\n",
       "\n",
       "#sk-container-id-7 div.sk-container {\n",
       "  /* jupyter's `normalize.less` sets `[hidden] { display: none; }`\n",
       "     but bootstrap.min.css set `[hidden] { display: none !important; }`\n",
       "     so we also need the `!important` here to be able to override the\n",
       "     default hidden behavior on the sphinx rendered scikit-learn.org.\n",
       "     See: https://github.com/scikit-learn/scikit-learn/issues/21755 */\n",
       "  display: inline-block !important;\n",
       "  position: relative;\n",
       "}\n",
       "\n",
       "#sk-container-id-7 div.sk-text-repr-fallback {\n",
       "  display: none;\n",
       "}\n",
       "\n",
       "div.sk-parallel-item,\n",
       "div.sk-serial,\n",
       "div.sk-item {\n",
       "  /* draw centered vertical line to link estimators */\n",
       "  background-image: linear-gradient(var(--sklearn-color-text-on-default-background), var(--sklearn-color-text-on-default-background));\n",
       "  background-size: 2px 100%;\n",
       "  background-repeat: no-repeat;\n",
       "  background-position: center center;\n",
       "}\n",
       "\n",
       "/* Parallel-specific style estimator block */\n",
       "\n",
       "#sk-container-id-7 div.sk-parallel-item::after {\n",
       "  content: \"\";\n",
       "  width: 100%;\n",
       "  border-bottom: 2px solid var(--sklearn-color-text-on-default-background);\n",
       "  flex-grow: 1;\n",
       "}\n",
       "\n",
       "#sk-container-id-7 div.sk-parallel {\n",
       "  display: flex;\n",
       "  align-items: stretch;\n",
       "  justify-content: center;\n",
       "  background-color: var(--sklearn-color-background);\n",
       "  position: relative;\n",
       "}\n",
       "\n",
       "#sk-container-id-7 div.sk-parallel-item {\n",
       "  display: flex;\n",
       "  flex-direction: column;\n",
       "}\n",
       "\n",
       "#sk-container-id-7 div.sk-parallel-item:first-child::after {\n",
       "  align-self: flex-end;\n",
       "  width: 50%;\n",
       "}\n",
       "\n",
       "#sk-container-id-7 div.sk-parallel-item:last-child::after {\n",
       "  align-self: flex-start;\n",
       "  width: 50%;\n",
       "}\n",
       "\n",
       "#sk-container-id-7 div.sk-parallel-item:only-child::after {\n",
       "  width: 0;\n",
       "}\n",
       "\n",
       "/* Serial-specific style estimator block */\n",
       "\n",
       "#sk-container-id-7 div.sk-serial {\n",
       "  display: flex;\n",
       "  flex-direction: column;\n",
       "  align-items: center;\n",
       "  background-color: var(--sklearn-color-background);\n",
       "  padding-right: 1em;\n",
       "  padding-left: 1em;\n",
       "}\n",
       "\n",
       "\n",
       "/* Toggleable style: style used for estimator/Pipeline/ColumnTransformer box that is\n",
       "clickable and can be expanded/collapsed.\n",
       "- Pipeline and ColumnTransformer use this feature and define the default style\n",
       "- Estimators will overwrite some part of the style using the `sk-estimator` class\n",
       "*/\n",
       "\n",
       "/* Pipeline and ColumnTransformer style (default) */\n",
       "\n",
       "#sk-container-id-7 div.sk-toggleable {\n",
       "  /* Default theme specific background. It is overwritten whether we have a\n",
       "  specific estimator or a Pipeline/ColumnTransformer */\n",
       "  background-color: var(--sklearn-color-background);\n",
       "}\n",
       "\n",
       "/* Toggleable label */\n",
       "#sk-container-id-7 label.sk-toggleable__label {\n",
       "  cursor: pointer;\n",
       "  display: flex;\n",
       "  width: 100%;\n",
       "  margin-bottom: 0;\n",
       "  padding: 0.5em;\n",
       "  box-sizing: border-box;\n",
       "  text-align: center;\n",
       "  align-items: start;\n",
       "  justify-content: space-between;\n",
       "  gap: 0.5em;\n",
       "}\n",
       "\n",
       "#sk-container-id-7 label.sk-toggleable__label .caption {\n",
       "  font-size: 0.6rem;\n",
       "  font-weight: lighter;\n",
       "  color: var(--sklearn-color-text-muted);\n",
       "}\n",
       "\n",
       "#sk-container-id-7 label.sk-toggleable__label-arrow:before {\n",
       "  /* Arrow on the left of the label */\n",
       "  content: \"▸\";\n",
       "  float: left;\n",
       "  margin-right: 0.25em;\n",
       "  color: var(--sklearn-color-icon);\n",
       "}\n",
       "\n",
       "#sk-container-id-7 label.sk-toggleable__label-arrow:hover:before {\n",
       "  color: var(--sklearn-color-text);\n",
       "}\n",
       "\n",
       "/* Toggleable content - dropdown */\n",
       "\n",
       "#sk-container-id-7 div.sk-toggleable__content {\n",
       "  max-height: 0;\n",
       "  max-width: 0;\n",
       "  overflow: hidden;\n",
       "  text-align: left;\n",
       "  /* unfitted */\n",
       "  background-color: var(--sklearn-color-unfitted-level-0);\n",
       "}\n",
       "\n",
       "#sk-container-id-7 div.sk-toggleable__content.fitted {\n",
       "  /* fitted */\n",
       "  background-color: var(--sklearn-color-fitted-level-0);\n",
       "}\n",
       "\n",
       "#sk-container-id-7 div.sk-toggleable__content pre {\n",
       "  margin: 0.2em;\n",
       "  border-radius: 0.25em;\n",
       "  color: var(--sklearn-color-text);\n",
       "  /* unfitted */\n",
       "  background-color: var(--sklearn-color-unfitted-level-0);\n",
       "}\n",
       "\n",
       "#sk-container-id-7 div.sk-toggleable__content.fitted pre {\n",
       "  /* unfitted */\n",
       "  background-color: var(--sklearn-color-fitted-level-0);\n",
       "}\n",
       "\n",
       "#sk-container-id-7 input.sk-toggleable__control:checked~div.sk-toggleable__content {\n",
       "  /* Expand drop-down */\n",
       "  max-height: 200px;\n",
       "  max-width: 100%;\n",
       "  overflow: auto;\n",
       "}\n",
       "\n",
       "#sk-container-id-7 input.sk-toggleable__control:checked~label.sk-toggleable__label-arrow:before {\n",
       "  content: \"▾\";\n",
       "}\n",
       "\n",
       "/* Pipeline/ColumnTransformer-specific style */\n",
       "\n",
       "#sk-container-id-7 div.sk-label input.sk-toggleable__control:checked~label.sk-toggleable__label {\n",
       "  color: var(--sklearn-color-text);\n",
       "  background-color: var(--sklearn-color-unfitted-level-2);\n",
       "}\n",
       "\n",
       "#sk-container-id-7 div.sk-label.fitted input.sk-toggleable__control:checked~label.sk-toggleable__label {\n",
       "  background-color: var(--sklearn-color-fitted-level-2);\n",
       "}\n",
       "\n",
       "/* Estimator-specific style */\n",
       "\n",
       "/* Colorize estimator box */\n",
       "#sk-container-id-7 div.sk-estimator input.sk-toggleable__control:checked~label.sk-toggleable__label {\n",
       "  /* unfitted */\n",
       "  background-color: var(--sklearn-color-unfitted-level-2);\n",
       "}\n",
       "\n",
       "#sk-container-id-7 div.sk-estimator.fitted input.sk-toggleable__control:checked~label.sk-toggleable__label {\n",
       "  /* fitted */\n",
       "  background-color: var(--sklearn-color-fitted-level-2);\n",
       "}\n",
       "\n",
       "#sk-container-id-7 div.sk-label label.sk-toggleable__label,\n",
       "#sk-container-id-7 div.sk-label label {\n",
       "  /* The background is the default theme color */\n",
       "  color: var(--sklearn-color-text-on-default-background);\n",
       "}\n",
       "\n",
       "/* On hover, darken the color of the background */\n",
       "#sk-container-id-7 div.sk-label:hover label.sk-toggleable__label {\n",
       "  color: var(--sklearn-color-text);\n",
       "  background-color: var(--sklearn-color-unfitted-level-2);\n",
       "}\n",
       "\n",
       "/* Label box, darken color on hover, fitted */\n",
       "#sk-container-id-7 div.sk-label.fitted:hover label.sk-toggleable__label.fitted {\n",
       "  color: var(--sklearn-color-text);\n",
       "  background-color: var(--sklearn-color-fitted-level-2);\n",
       "}\n",
       "\n",
       "/* Estimator label */\n",
       "\n",
       "#sk-container-id-7 div.sk-label label {\n",
       "  font-family: monospace;\n",
       "  font-weight: bold;\n",
       "  display: inline-block;\n",
       "  line-height: 1.2em;\n",
       "}\n",
       "\n",
       "#sk-container-id-7 div.sk-label-container {\n",
       "  text-align: center;\n",
       "}\n",
       "\n",
       "/* Estimator-specific */\n",
       "#sk-container-id-7 div.sk-estimator {\n",
       "  font-family: monospace;\n",
       "  border: 1px dotted var(--sklearn-color-border-box);\n",
       "  border-radius: 0.25em;\n",
       "  box-sizing: border-box;\n",
       "  margin-bottom: 0.5em;\n",
       "  /* unfitted */\n",
       "  background-color: var(--sklearn-color-unfitted-level-0);\n",
       "}\n",
       "\n",
       "#sk-container-id-7 div.sk-estimator.fitted {\n",
       "  /* fitted */\n",
       "  background-color: var(--sklearn-color-fitted-level-0);\n",
       "}\n",
       "\n",
       "/* on hover */\n",
       "#sk-container-id-7 div.sk-estimator:hover {\n",
       "  /* unfitted */\n",
       "  background-color: var(--sklearn-color-unfitted-level-2);\n",
       "}\n",
       "\n",
       "#sk-container-id-7 div.sk-estimator.fitted:hover {\n",
       "  /* fitted */\n",
       "  background-color: var(--sklearn-color-fitted-level-2);\n",
       "}\n",
       "\n",
       "/* Specification for estimator info (e.g. \"i\" and \"?\") */\n",
       "\n",
       "/* Common style for \"i\" and \"?\" */\n",
       "\n",
       ".sk-estimator-doc-link,\n",
       "a:link.sk-estimator-doc-link,\n",
       "a:visited.sk-estimator-doc-link {\n",
       "  float: right;\n",
       "  font-size: smaller;\n",
       "  line-height: 1em;\n",
       "  font-family: monospace;\n",
       "  background-color: var(--sklearn-color-background);\n",
       "  border-radius: 1em;\n",
       "  height: 1em;\n",
       "  width: 1em;\n",
       "  text-decoration: none !important;\n",
       "  margin-left: 0.5em;\n",
       "  text-align: center;\n",
       "  /* unfitted */\n",
       "  border: var(--sklearn-color-unfitted-level-1) 1pt solid;\n",
       "  color: var(--sklearn-color-unfitted-level-1);\n",
       "}\n",
       "\n",
       ".sk-estimator-doc-link.fitted,\n",
       "a:link.sk-estimator-doc-link.fitted,\n",
       "a:visited.sk-estimator-doc-link.fitted {\n",
       "  /* fitted */\n",
       "  border: var(--sklearn-color-fitted-level-1) 1pt solid;\n",
       "  color: var(--sklearn-color-fitted-level-1);\n",
       "}\n",
       "\n",
       "/* On hover */\n",
       "div.sk-estimator:hover .sk-estimator-doc-link:hover,\n",
       ".sk-estimator-doc-link:hover,\n",
       "div.sk-label-container:hover .sk-estimator-doc-link:hover,\n",
       ".sk-estimator-doc-link:hover {\n",
       "  /* unfitted */\n",
       "  background-color: var(--sklearn-color-unfitted-level-3);\n",
       "  color: var(--sklearn-color-background);\n",
       "  text-decoration: none;\n",
       "}\n",
       "\n",
       "div.sk-estimator.fitted:hover .sk-estimator-doc-link.fitted:hover,\n",
       ".sk-estimator-doc-link.fitted:hover,\n",
       "div.sk-label-container:hover .sk-estimator-doc-link.fitted:hover,\n",
       ".sk-estimator-doc-link.fitted:hover {\n",
       "  /* fitted */\n",
       "  background-color: var(--sklearn-color-fitted-level-3);\n",
       "  color: var(--sklearn-color-background);\n",
       "  text-decoration: none;\n",
       "}\n",
       "\n",
       "/* Span, style for the box shown on hovering the info icon */\n",
       ".sk-estimator-doc-link span {\n",
       "  display: none;\n",
       "  z-index: 9999;\n",
       "  position: relative;\n",
       "  font-weight: normal;\n",
       "  right: .2ex;\n",
       "  padding: .5ex;\n",
       "  margin: .5ex;\n",
       "  width: min-content;\n",
       "  min-width: 20ex;\n",
       "  max-width: 50ex;\n",
       "  color: var(--sklearn-color-text);\n",
       "  box-shadow: 2pt 2pt 4pt #999;\n",
       "  /* unfitted */\n",
       "  background: var(--sklearn-color-unfitted-level-0);\n",
       "  border: .5pt solid var(--sklearn-color-unfitted-level-3);\n",
       "}\n",
       "\n",
       ".sk-estimator-doc-link.fitted span {\n",
       "  /* fitted */\n",
       "  background: var(--sklearn-color-fitted-level-0);\n",
       "  border: var(--sklearn-color-fitted-level-3);\n",
       "}\n",
       "\n",
       ".sk-estimator-doc-link:hover span {\n",
       "  display: block;\n",
       "}\n",
       "\n",
       "/* \"?\"-specific style due to the `<a>` HTML tag */\n",
       "\n",
       "#sk-container-id-7 a.estimator_doc_link {\n",
       "  float: right;\n",
       "  font-size: 1rem;\n",
       "  line-height: 1em;\n",
       "  font-family: monospace;\n",
       "  background-color: var(--sklearn-color-background);\n",
       "  border-radius: 1rem;\n",
       "  height: 1rem;\n",
       "  width: 1rem;\n",
       "  text-decoration: none;\n",
       "  /* unfitted */\n",
       "  color: var(--sklearn-color-unfitted-level-1);\n",
       "  border: var(--sklearn-color-unfitted-level-1) 1pt solid;\n",
       "}\n",
       "\n",
       "#sk-container-id-7 a.estimator_doc_link.fitted {\n",
       "  /* fitted */\n",
       "  border: var(--sklearn-color-fitted-level-1) 1pt solid;\n",
       "  color: var(--sklearn-color-fitted-level-1);\n",
       "}\n",
       "\n",
       "/* On hover */\n",
       "#sk-container-id-7 a.estimator_doc_link:hover {\n",
       "  /* unfitted */\n",
       "  background-color: var(--sklearn-color-unfitted-level-3);\n",
       "  color: var(--sklearn-color-background);\n",
       "  text-decoration: none;\n",
       "}\n",
       "\n",
       "#sk-container-id-7 a.estimator_doc_link.fitted:hover {\n",
       "  /* fitted */\n",
       "  background-color: var(--sklearn-color-fitted-level-3);\n",
       "}\n",
       "</style><div id=\"sk-container-id-7\" class=\"sk-top-container\"><div class=\"sk-text-repr-fallback\"><pre>LinearRegression()</pre><b>In a Jupyter environment, please rerun this cell to show the HTML representation or trust the notebook. <br />On GitHub, the HTML representation is unable to render, please try loading this page with nbviewer.org.</b></div><div class=\"sk-container\" hidden><div class=\"sk-item\"><div class=\"sk-estimator fitted sk-toggleable\"><input class=\"sk-toggleable__control sk-hidden--visually\" id=\"sk-estimator-id-7\" type=\"checkbox\" checked><label for=\"sk-estimator-id-7\" class=\"sk-toggleable__label fitted sk-toggleable__label-arrow\"><div><div>LinearRegression</div></div><div><a class=\"sk-estimator-doc-link fitted\" rel=\"noreferrer\" target=\"_blank\" href=\"https://scikit-learn.org/1.6/modules/generated/sklearn.linear_model.LinearRegression.html\">?<span>Documentation for LinearRegression</span></a><span class=\"sk-estimator-doc-link fitted\">i<span>Fitted</span></span></div></label><div class=\"sk-toggleable__content fitted\"><pre>LinearRegression()</pre></div> </div></div></div></div>"
      ]
     },
     "execution_count": 138,
     "metadata": {},
     "output_type": "execute_result"
    }
   ],
   "execution_count": 138
  },
  {
   "metadata": {},
   "cell_type": "markdown",
   "source": "### Prediction",
   "id": "65bb97ce04d55b61"
  },
  {
   "metadata": {
    "ExecuteTime": {
     "end_time": "2025-05-22T08:05:40.558861Z",
     "start_time": "2025-05-22T08:05:40.545776Z"
    }
   },
   "cell_type": "code",
   "source": "y_pred = regressor.predict(X_test)\n",
   "id": "585ea9c4d337f22",
   "outputs": [],
   "execution_count": 139
  },
  {
   "metadata": {},
   "cell_type": "markdown",
   "source": "### Print",
   "id": "b79f28145e6ec0bd"
  },
  {
   "metadata": {
    "ExecuteTime": {
     "end_time": "2025-05-22T08:05:40.615775Z",
     "start_time": "2025-05-22T08:05:40.602236Z"
    }
   },
   "cell_type": "code",
   "source": [
    "import numpy as np\n",
    "print(\n",
    "    np.concatenate(\n",
    "        (y_pred.reshape(len(y_pred), 1),\n",
    "         y_test.reshape(len(y_test ), 1)),\n",
    "        axis=1\n",
    "    )\n",
    ")"
   ],
   "id": "e8b9fcead484d95d",
   "outputs": [
    {
     "name": "stdout",
     "output_type": "stream",
     "text": [
      "[[0.31 0.5 ]\n",
      " [0.38 0.  ]\n",
      " [0.84 1.  ]]\n"
     ]
    }
   ],
   "execution_count": 140
  },
  {
   "metadata": {},
   "cell_type": "markdown",
   "source": "# Plotting",
   "id": "815a4add5fccaff8"
  },
  {
   "metadata": {
    "ExecuteTime": {
     "end_time": "2025-05-22T08:05:40.831692Z",
     "start_time": "2025-05-22T08:05:40.694922Z"
    }
   },
   "cell_type": "code",
   "source": [
    "import matplotlib.pyplot as plt\n",
    "\n",
    "labels = [0.0, 0.5, 1.0]\n",
    "\n",
    "fig, ax = plt.subplots(figsize=(6,6))\n",
    "\n",
    "ax.scatter(y_pred, y_test,\n",
    "           s=100, alpha=0.7, edgecolor='k', clip_on=False)\n",
    "\n",
    "ax.plot([1.0, 0.0], [1.0, 0.0], linestyle='--')\n",
    "\n",
    "ax.set_xticks(labels)\n",
    "ax.set_yticks(labels)\n",
    "\n",
    "ax.set_xlim(-0.1, 1.1)\n",
    "ax.set_ylim(-0.1, 1.1)\n",
    "\n",
    "ax.set_xlabel('Predicted ')\n",
    "ax.set_ylabel('Actual ')\n",
    "ax.set_title(f'Predicted vs. Actual')\n",
    "ax.grid(True, linestyle='--', alpha=0.3)\n",
    "\n",
    "plt.tight_layout()\n",
    "plt.show()\n"
   ],
   "id": "40aa6c3a4a4d06b6",
   "outputs": [
    {
     "data": {
      "text/plain": [
       "<Figure size 600x600 with 1 Axes>"
      ],
      "image/png": "[encoded data removed]"
     },
     "metadata": {},
     "output_type": "display_data"
    }
   ],
   "execution_count": 141
  }
 ],
 "metadata": {
  "kernelspec": {
   "name": "python3",
   "language": "python",
   "display_name": "Python 3 (ipykernel)"
  }
 },
 "nbformat": 5,
 "nbformat_minor": 9
}
