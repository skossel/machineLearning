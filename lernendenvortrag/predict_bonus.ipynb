{
 "cells": [
  {
   "metadata": {},
   "cell_type": "markdown",
   "source": "# Wer hat sich einen Bonus verdient?",
   "id": "c143743b5657eabf"
  },
  {
   "metadata": {},
   "cell_type": "markdown",
   "source": "## Datensatz importieren",
   "id": "1d1636ce78c4ab6f"
  },
  {
   "metadata": {
    "ExecuteTime": {
     "end_time": "2025-04-25T10:45:48.543994Z",
     "start_time": "2025-04-25T10:45:48.536494Z"
    }
   },
   "cell_type": "code",
   "source": [
    "import pandas as pd\n",
    "dataset = pd.read_csv('bildungsziele_bonus.csv', sep=';')"
   ],
   "id": "cfcf690107d7c942",
   "outputs": [],
   "execution_count": 191
  },
  {
   "metadata": {},
   "cell_type": "markdown",
   "source": "## Aufteilung in Features and Labels",
   "id": "1f88eba7b42613b7"
  },
  {
   "metadata": {
    "ExecuteTime": {
     "end_time": "2025-04-25T10:45:48.559914Z",
     "start_time": "2025-04-25T10:45:48.554991Z"
    }
   },
   "cell_type": "code",
   "source": [
    "X = dataset.iloc[:, :-1]\n",
    "y = dataset.iloc[:, -1]"
   ],
   "id": "1c81fc24c1168aff",
   "outputs": [],
   "execution_count": 192
  },
  {
   "metadata": {
    "ExecuteTime": {
     "end_time": "2025-04-25T10:45:48.588235Z",
     "start_time": "2025-04-25T10:45:48.576219Z"
    }
   },
   "cell_type": "code",
   "source": "print(X)",
   "id": "def39a8e8d23884a",
   "outputs": [
    {
     "name": "stdout",
     "output_type": "stream",
     "text": [
      "  Betriebliche Bildungsziele Schulische Bildungsziele Bildungsziele der ÜK  \\\n",
      "0                   erfuellt                 erfuellt         uebertroffen   \n",
      "1                   erfuellt                 erfuellt             erfuellt   \n",
      "2                   erfuellt           nicht erfuellt         uebertroffen   \n",
      "3                   erfuellt                 erfuellt       nicht erfuellt   \n",
      "4                   erfuellt             uebertroffen       knapp erfuellt   \n",
      "5                   erfuellt             uebertroffen             erfuellt   \n",
      "\n",
      "  Fachkompetenz Methodenkompetenz Sozialkompetenz Selbstkompetenz  \\\n",
      "0  uebertroffen          erfuellt        erfuellt        erfuellt   \n",
      "1      erfuellt          erfuellt        erfuellt    uebertroffen   \n",
      "2      erfuellt    knapp erfuellt        erfuellt  knapp erfuellt   \n",
      "3      erfuellt    knapp erfuellt        erfuellt        erfuellt   \n",
      "4      erfuellt    knapp erfuellt    uebertroffen        erfuellt   \n",
      "5      erfuellt          erfuellt    uebertroffen        erfuellt   \n",
      "\n",
      "   BMS Fachnote 1  BMS Fachnote 2  BMS Fachnote 3  BMS Fachnote 4  \\\n",
      "0             5.0             5.5             5.0            4.75   \n",
      "1             4.5             5.5             5.5            5.00   \n",
      "2             4.0             4.5             3.5            4.50   \n",
      "3             5.0             5.0             5.0            4.50   \n",
      "4             5.0             4.0             4.5            5.00   \n",
      "5             5.0             5.0             5.0            5.00   \n",
      "\n",
      "   TBZ/BBW Modulnote 1  TBZ/BBW Modulnote 2  TBZ/BBW Modulnote 3  \\\n",
      "0                  5.5                  5.0                  5.5   \n",
      "1                  5.5                  5.5                  6.0   \n",
      "2                  5.0                  4.5                  4.5   \n",
      "3                  4.0                  4.5                  5.0   \n",
      "4                  4.5                  5.0                  4.5   \n",
      "5                  6.0                  5.5                  5.0   \n",
      "\n",
      "   TBZ/BBW Modulnote 4  Uek Durchschnitt  \n",
      "0                  6.0              5.75  \n",
      "1                  5.5              6.00  \n",
      "2                  4.5              5.50  \n",
      "3                  5.5              5.00  \n",
      "4                  6.0              4.50  \n",
      "5                  5.5              5.25  \n"
     ]
    }
   ],
   "execution_count": 193
  },
  {
   "metadata": {
    "ExecuteTime": {
     "end_time": "2025-04-25T10:45:48.611289Z",
     "start_time": "2025-04-25T10:45:48.604915Z"
    }
   },
   "cell_type": "code",
   "source": "print(y)",
   "id": "acfacc32fe63a02c",
   "outputs": [
    {
     "name": "stdout",
     "output_type": "stream",
     "text": [
      "0    0.8\n",
      "1    0.9\n",
      "2    0.2\n",
      "3    0.7\n",
      "4    0.4\n",
      "5    0.6\n",
      "Name: Bonus, dtype: float64\n"
     ]
    }
   ],
   "execution_count": 194
  },
  {
   "metadata": {},
   "cell_type": "markdown",
   "source": "## Umgang mit kategorialen Daten (Bildungsziele)",
   "id": "9d4161ded52d75a4"
  },
  {
   "metadata": {
    "ExecuteTime": {
     "end_time": "2025-04-25T10:45:48.661624Z",
     "start_time": "2025-04-25T10:45:48.649601Z"
    }
   },
   "cell_type": "code",
   "source": [
    "from sklearn.compose import ColumnTransformer\n",
    "from sklearn.preprocessing import OneHotEncoder\n",
    "import numpy as np\n",
    "ct = ColumnTransformer(transformers=[('encoder', OneHotEncoder(), list(range(7)))], remainder='passthrough')\n",
    "X = np.array(ct.fit_transform(X))"
   ],
   "id": "66ec23cfe291da8d",
   "outputs": [],
   "execution_count": 195
  },
  {
   "metadata": {
    "ExecuteTime": {
     "end_time": "2025-04-25T10:45:48.673231Z",
     "start_time": "2025-04-25T10:45:48.668188Z"
    }
   },
   "cell_type": "code",
   "source": "print('Matrix of features: \\n' + str(X))",
   "id": "ff55d4816efa83b6",
   "outputs": [
    {
     "name": "stdout",
     "output_type": "stream",
     "text": [
      "Matrix of features: \n",
      "[[1.   1.   0.   0.   0.   0.   0.   1.   0.   1.   1.   0.   1.   0.\n",
      "  1.   0.   0.   5.   5.5  5.   4.75 5.5  5.   5.5  6.   5.75]\n",
      " [1.   1.   0.   0.   1.   0.   0.   0.   1.   0.   1.   0.   1.   0.\n",
      "  0.   0.   1.   4.5  5.5  5.5  5.   5.5  5.5  6.   5.5  6.  ]\n",
      " [1.   0.   1.   0.   0.   0.   0.   1.   1.   0.   0.   1.   1.   0.\n",
      "  0.   1.   0.   4.   4.5  3.5  4.5  5.   4.5  4.5  4.5  5.5 ]\n",
      " [1.   1.   0.   0.   0.   0.   1.   0.   1.   0.   0.   1.   1.   0.\n",
      "  1.   0.   0.   5.   5.   5.   4.5  4.   4.5  5.   5.5  5.  ]\n",
      " [1.   0.   0.   1.   0.   1.   0.   0.   1.   0.   0.   1.   0.   1.\n",
      "  1.   0.   0.   5.   4.   4.5  5.   4.5  5.   4.5  6.   4.5 ]\n",
      " [1.   0.   0.   1.   1.   0.   0.   0.   1.   0.   1.   0.   0.   1.\n",
      "  1.   0.   0.   5.   5.   5.   5.   6.   5.5  5.   5.5  5.25]]\n"
     ]
    }
   ],
   "execution_count": 196
  },
  {
   "metadata": {},
   "cell_type": "markdown",
   "source": "## Aufteilung in Trainings- und Testset",
   "id": "65d60abcea8f34f8"
  },
  {
   "metadata": {
    "ExecuteTime": {
     "end_time": "2025-04-25T10:45:48.703896Z",
     "start_time": "2025-04-25T10:45:48.697754Z"
    }
   },
   "cell_type": "code",
   "source": [
    "from sklearn.model_selection import train_test_split\n",
    "X_train, X_test, y_train, y_test = train_test_split(X, y, test_size=0.2, random_state=1)"
   ],
   "id": "fd97f304754f0e2c",
   "outputs": [],
   "execution_count": 197
  },
  {
   "metadata": {
    "ExecuteTime": {
     "end_time": "2025-04-25T10:45:48.723866Z",
     "start_time": "2025-04-25T10:45:48.718197Z"
    }
   },
   "cell_type": "code",
   "source": "print(X_train)",
   "id": "48b8764478b849eb",
   "outputs": [
    {
     "name": "stdout",
     "output_type": "stream",
     "text": [
      "[[1.   0.   0.   1.   0.   1.   0.   0.   1.   0.   0.   1.   0.   1.\n",
      "  1.   0.   0.   5.   4.   4.5  5.   4.5  5.   4.5  6.   4.5 ]\n",
      " [1.   1.   0.   0.   0.   0.   0.   1.   0.   1.   1.   0.   1.   0.\n",
      "  1.   0.   0.   5.   5.5  5.   4.75 5.5  5.   5.5  6.   5.75]\n",
      " [1.   1.   0.   0.   0.   0.   1.   0.   1.   0.   0.   1.   1.   0.\n",
      "  1.   0.   0.   5.   5.   5.   4.5  4.   4.5  5.   5.5  5.  ]\n",
      " [1.   0.   0.   1.   1.   0.   0.   0.   1.   0.   1.   0.   0.   1.\n",
      "  1.   0.   0.   5.   5.   5.   5.   6.   5.5  5.   5.5  5.25]]\n"
     ]
    }
   ],
   "execution_count": 198
  },
  {
   "metadata": {
    "ExecuteTime": {
     "end_time": "2025-04-25T10:45:48.742772Z",
     "start_time": "2025-04-25T10:45:48.736922Z"
    }
   },
   "cell_type": "code",
   "source": "print(X_test)",
   "id": "c9eaddd35dcd8c9b",
   "outputs": [
    {
     "name": "stdout",
     "output_type": "stream",
     "text": [
      "[[1.  0.  1.  0.  0.  0.  0.  1.  1.  0.  0.  1.  1.  0.  0.  1.  0.  4.\n",
      "  4.5 3.5 4.5 5.  4.5 4.5 4.5 5.5]\n",
      " [1.  1.  0.  0.  1.  0.  0.  0.  1.  0.  1.  0.  1.  0.  0.  0.  1.  4.5\n",
      "  5.5 5.5 5.  5.5 5.5 6.  5.5 6. ]]\n"
     ]
    }
   ],
   "execution_count": 199
  },
  {
   "metadata": {
    "ExecuteTime": {
     "end_time": "2025-04-25T10:45:48.763100Z",
     "start_time": "2025-04-25T10:45:48.756677Z"
    }
   },
   "cell_type": "code",
   "source": "print(y_train)",
   "id": "ec5d829f8a9975d3",
   "outputs": [
    {
     "name": "stdout",
     "output_type": "stream",
     "text": [
      "4    0.4\n",
      "0    0.8\n",
      "3    0.7\n",
      "5    0.6\n",
      "Name: Bonus, dtype: float64\n"
     ]
    }
   ],
   "execution_count": 200
  },
  {
   "metadata": {
    "ExecuteTime": {
     "end_time": "2025-04-25T10:45:48.925878Z",
     "start_time": "2025-04-25T10:45:48.919403Z"
    }
   },
   "cell_type": "code",
   "source": "print(y_test)",
   "id": "690f0e4ec9c37f90",
   "outputs": [
    {
     "name": "stdout",
     "output_type": "stream",
     "text": [
      "2    0.2\n",
      "1    0.9\n",
      "Name: Bonus, dtype: float64\n"
     ]
    }
   ],
   "execution_count": 201
  },
  {
   "metadata": {},
   "cell_type": "markdown",
   "source": "## Feature Scaling",
   "id": "e92aa5e7bf003d5b"
  },
  {
   "metadata": {
    "ExecuteTime": {
     "end_time": "2025-04-25T10:45:49.033537Z",
     "start_time": "2025-04-25T10:45:49.027313Z"
    }
   },
   "cell_type": "code",
   "source": [
    "from sklearn.preprocessing import StandardScaler\n",
    "sc = StandardScaler()\n",
    "# erste ab index 7\n",
    "X_train[:, 17:] = sc.fit_transform(X_train[:, 17:])\n",
    "X_test[:, 17:] = sc.transform(X_test[:, 17:])"
   ],
   "id": "89842c71517a95c9",
   "outputs": [],
   "execution_count": 202
  },
  {
   "metadata": {
    "ExecuteTime": {
     "end_time": "2025-04-25T10:45:49.080810Z",
     "start_time": "2025-04-25T10:45:49.073819Z"
    }
   },
   "cell_type": "code",
   "source": "print(X_train)",
   "id": "6fb75140771373e2",
   "outputs": [
    {
     "name": "stdout",
     "output_type": "stream",
     "text": [
      "[[ 1.          0.          0.          1.          0.          1.\n",
      "   0.          0.          1.          0.          0.          1.\n",
      "   0.          1.          1.          0.          0.          0.\n",
      "  -1.60591014 -1.73205081  0.90453403 -0.63245553  0.         -1.41421356\n",
      "   1.         -1.38675049]\n",
      " [ 1.          1.          0.          0.          0.          0.\n",
      "   0.          1.          0.          1.          1.          0.\n",
      "   1.          0.          1.          0.          0.          0.\n",
      "   1.14707867  0.57735027 -0.30151134  0.63245553  0.          1.41421356\n",
      "   1.          1.38675049]\n",
      " [ 1.          1.          0.          0.          0.          0.\n",
      "   1.          0.          1.          0.          0.          1.\n",
      "   1.          0.          1.          0.          0.          0.\n",
      "   0.22941573  0.57735027 -1.50755672 -1.26491106 -1.41421356  0.\n",
      "  -1.         -0.2773501 ]\n",
      " [ 1.          0.          0.          1.          1.          0.\n",
      "   0.          0.          1.          0.          1.          0.\n",
      "   0.          1.          1.          0.          0.          0.\n",
      "   0.22941573  0.57735027  0.90453403  1.26491106  1.41421356  0.\n",
      "  -1.          0.2773501 ]]\n"
     ]
    }
   ],
   "execution_count": 203
  },
  {
   "metadata": {
    "ExecuteTime": {
     "end_time": "2025-04-25T10:45:49.149457Z",
     "start_time": "2025-04-25T10:45:49.143482Z"
    }
   },
   "cell_type": "code",
   "source": "print(X_test)",
   "id": "7c4435469097ade",
   "outputs": [
    {
     "name": "stdout",
     "output_type": "stream",
     "text": [
      "[[ 1.          0.          1.          0.          0.          0.\n",
      "   0.          1.          1.          0.          0.          1.\n",
      "   1.          0.          0.          1.          0.         -1.\n",
      "  -0.6882472  -6.35085296 -1.50755672  0.         -1.41421356 -1.41421356\n",
      "  -5.          0.83205029]\n",
      " [ 1.          1.          0.          0.          1.          0.\n",
      "   0.          0.          1.          0.          1.          0.\n",
      "   1.          0.          0.          0.          1.         -0.5\n",
      "   1.14707867  2.88675135  0.90453403  0.63245553  1.41421356  2.82842712\n",
      "  -1.          1.94145069]]\n"
     ]
    }
   ],
   "execution_count": 204
  },
  {
   "metadata": {},
   "cell_type": "markdown",
   "source": "// TODO Scaliert wie nun weiter?",
   "id": "3a4778ed79ff6a7"
  }
 ],
 "metadata": {
  "kernelspec": {
   "name": "python3",
   "language": "python",
   "display_name": "Python 3 (ipykernel)"
  }
 },
 "nbformat": 5,
 "nbformat_minor": 9
}
