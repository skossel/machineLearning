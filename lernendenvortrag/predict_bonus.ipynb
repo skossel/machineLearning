{
 "cells": [
  {
   "metadata": {},
   "cell_type": "markdown",
   "source": "# Wer hat sich einen Bonus verdient?",
   "id": "c143743b5657eabf"
  },
  {
   "metadata": {},
   "cell_type": "markdown",
   "source": "## Datensatz importieren",
   "id": "1d1636ce78c4ab6f"
  },
  {
   "metadata": {
    "ExecuteTime": {
     "end_time": "2025-05-10T10:09:24.785320Z",
     "start_time": "2025-05-10T10:09:24.773348Z"
    }
   },
   "cell_type": "code",
   "source": [
    "import pandas as pd\n",
    "\n",
    "dataset = pd.read_csv('predict_bonus.csv', sep=';')"
   ],
   "id": "cfcf690107d7c942",
   "outputs": [],
   "execution_count": 125
  },
  {
   "metadata": {},
   "cell_type": "markdown",
   "source": "## Aufteilung in Features and Labels",
   "id": "1f88eba7b42613b7"
  },
  {
   "metadata": {
    "ExecuteTime": {
     "end_time": "2025-05-10T10:09:24.847307Z",
     "start_time": "2025-05-10T10:09:24.835455Z"
    }
   },
   "cell_type": "code",
   "source": [
    "X = dataset.iloc[:, :-1].values\n",
    "y = dataset.iloc[:, -1].values"
   ],
   "id": "1c81fc24c1168aff",
   "outputs": [],
   "execution_count": 126
  },
  {
   "metadata": {
    "ExecuteTime": {
     "end_time": "2025-05-10T10:09:25.102249Z",
     "start_time": "2025-05-10T10:09:25.093160Z"
    }
   },
   "cell_type": "code",
   "source": "print(X)",
   "id": "def39a8e8d23884a",
   "outputs": [
    {
     "name": "stdout",
     "output_type": "stream",
     "text": [
      "[['erfuellt' 'erfuellt' 'uebertroffen' 'uebertroffen' 'erfuellt'\n",
      "  'erfuellt' 'erfuellt' 5.0 5.5 5.0 4.75 5.5 5.0 5.5 6.0 5.75]\n",
      " ['erfuellt' 'erfuellt' 'erfuellt' 'erfuellt' 'erfuellt' 'erfuellt'\n",
      "  'uebertroffen' 4.5 5.5 5.5 5.0 5.5 5.5 6.0 5.5 6.0]\n",
      " ['erfuellt' 'nicht erfuellt' 'uebertroffen' 'erfuellt' 'knapp erfuellt'\n",
      "  'erfuellt' 'knapp erfuellt' nan 4.5 3.5 4.5 5.0 4.5 4.5 4.5 5.5]\n",
      " ['erfuellt' 'erfuellt' 'nicht erfuellt' 'erfuellt' 'knapp erfuellt'\n",
      "  'erfuellt' 'erfuellt' 5.0 5.0 5.0 4.5 4.0 4.5 5.0 5.5 5.0]\n",
      " ['erfuellt' 'uebertroffen' 'knapp erfuellt' 'erfuellt' 'knapp erfuellt'\n",
      "  'uebertroffen' 'erfuellt' 5.0 4.0 4.5 5.0 4.5 5.0 4.5 6.0 4.5]\n",
      " ['erfuellt' 'uebertroffen' 'erfuellt' 'erfuellt' 'erfuellt'\n",
      "  'uebertroffen' 'erfuellt' 5.0 5.0 5.0 5.0 6.0 5.5 5.0 5.5 5.25]\n",
      " ['erfuellt' 'nicht erfuellt' 'erfuellt' 'knapp erfuellt'\n",
      "  'knapp erfuellt' 'erfuellt' 'erfuellt' 3.0 4.5 4.5 5.0 5.5 4.0 4.0 4.5\n",
      "  5.25]\n",
      " ['erfuellt' 'nicht erfuellt' 'erfuellt' 'knapp erfuellt'\n",
      "  'knapp erfuellt' 'erfuellt' 'erfuellt' 4.5 3.5 5.0 4.5 4.5 4.5 4.0 4.0\n",
      "  4.75]]\n"
     ]
    }
   ],
   "execution_count": 127
  },
  {
   "metadata": {
    "ExecuteTime": {
     "end_time": "2025-05-10T10:09:25.228741Z",
     "start_time": "2025-05-10T10:09:25.216458Z"
    }
   },
   "cell_type": "code",
   "source": "print(y)",
   "id": "acfacc32fe63a02c",
   "outputs": [
    {
     "name": "stdout",
     "output_type": "stream",
     "text": [
      "[1.  1.  0.  1.  0.5 0.5 0.  0.5]\n"
     ]
    }
   ],
   "execution_count": 128
  },
  {
   "metadata": {},
   "cell_type": "markdown",
   "source": "## Fehlende Daten",
   "id": "b44a12a6eb029eb6"
  },
  {
   "metadata": {
    "ExecuteTime": {
     "end_time": "2025-05-10T10:09:25.358958Z",
     "start_time": "2025-05-10T10:09:25.343207Z"
    }
   },
   "cell_type": "code",
   "source": [
    "from sklearn.impute import SimpleImputer\n",
    "import numpy as np\n",
    "imputer = SimpleImputer(missing_values=np.nan, strategy='mean')\n",
    "imputer.fit(X[:, 7:8])\n",
    "X[:, 7:8] = np.round(imputer.transform(X[:, 7:8]), 2)"
   ],
   "id": "304a3a59ae7c097d",
   "outputs": [],
   "execution_count": 129
  },
  {
   "metadata": {
    "ExecuteTime": {
     "end_time": "2025-05-10T10:09:25.390957Z",
     "start_time": "2025-05-10T10:09:25.381957Z"
    }
   },
   "cell_type": "code",
   "source": "print(X)",
   "id": "18cd2baeddaeb9da",
   "outputs": [
    {
     "name": "stdout",
     "output_type": "stream",
     "text": [
      "[['erfuellt' 'erfuellt' 'uebertroffen' 'uebertroffen' 'erfuellt'\n",
      "  'erfuellt' 'erfuellt' 5.0 5.5 5.0 4.75 5.5 5.0 5.5 6.0 5.75]\n",
      " ['erfuellt' 'erfuellt' 'erfuellt' 'erfuellt' 'erfuellt' 'erfuellt'\n",
      "  'uebertroffen' 4.5 5.5 5.5 5.0 5.5 5.5 6.0 5.5 6.0]\n",
      " ['erfuellt' 'nicht erfuellt' 'uebertroffen' 'erfuellt' 'knapp erfuellt'\n",
      "  'erfuellt' 'knapp erfuellt' 4.57 4.5 3.5 4.5 5.0 4.5 4.5 4.5 5.5]\n",
      " ['erfuellt' 'erfuellt' 'nicht erfuellt' 'erfuellt' 'knapp erfuellt'\n",
      "  'erfuellt' 'erfuellt' 5.0 5.0 5.0 4.5 4.0 4.5 5.0 5.5 5.0]\n",
      " ['erfuellt' 'uebertroffen' 'knapp erfuellt' 'erfuellt' 'knapp erfuellt'\n",
      "  'uebertroffen' 'erfuellt' 5.0 4.0 4.5 5.0 4.5 5.0 4.5 6.0 4.5]\n",
      " ['erfuellt' 'uebertroffen' 'erfuellt' 'erfuellt' 'erfuellt'\n",
      "  'uebertroffen' 'erfuellt' 5.0 5.0 5.0 5.0 6.0 5.5 5.0 5.5 5.25]\n",
      " ['erfuellt' 'nicht erfuellt' 'erfuellt' 'knapp erfuellt'\n",
      "  'knapp erfuellt' 'erfuellt' 'erfuellt' 3.0 4.5 4.5 5.0 5.5 4.0 4.0 4.5\n",
      "  5.25]\n",
      " ['erfuellt' 'nicht erfuellt' 'erfuellt' 'knapp erfuellt'\n",
      "  'knapp erfuellt' 'erfuellt' 'erfuellt' 4.5 3.5 5.0 4.5 4.5 4.5 4.0 4.0\n",
      "  4.75]]\n"
     ]
    }
   ],
   "execution_count": 130
  },
  {
   "metadata": {},
   "cell_type": "markdown",
   "source": "## Umgang mit kategorialen Daten (Bildungsziele)",
   "id": "9d4161ded52d75a4"
  },
  {
   "metadata": {
    "ExecuteTime": {
     "end_time": "2025-05-10T10:09:25.464468Z",
     "start_time": "2025-05-10T10:09:25.445468Z"
    }
   },
   "cell_type": "code",
   "source": [
    "from sklearn.compose import ColumnTransformer\n",
    "from sklearn.preprocessing import OneHotEncoder\n",
    "import numpy as np\n",
    "ct = ColumnTransformer(\n",
    "    transformers=[('encoder', OneHotEncoder(drop='first'), list(range(7)))],\n",
    "    remainder='passthrough')\n",
    "X = np.array(ct.fit_transform(X))"
   ],
   "id": "66ec23cfe291da8d",
   "outputs": [],
   "execution_count": 131
  },
  {
   "metadata": {
    "ExecuteTime": {
     "end_time": "2025-05-10T10:09:25.543470Z",
     "start_time": "2025-05-10T10:09:25.531471Z"
    }
   },
   "cell_type": "code",
   "source": "print('Matrix of features: \\n' + str(X))",
   "id": "ff55d4816efa83b6",
   "outputs": [
    {
     "name": "stdout",
     "output_type": "stream",
     "text": [
      "Matrix of features: \n",
      "[[0.0 0.0 0.0 0.0 1.0 0.0 1.0 0.0 0.0 0.0 0.0 5.0 5.5 5.0 4.75 5.5 5.0\n",
      "  5.5 6.0 5.75]\n",
      " [0.0 0.0 0.0 0.0 0.0 0.0 0.0 0.0 0.0 0.0 1.0 4.5 5.5 5.5 5.0 5.5 5.5 6.0\n",
      "  5.5 6.0]\n",
      " [1.0 0.0 0.0 0.0 1.0 0.0 0.0 1.0 0.0 1.0 0.0 4.57 4.5 3.5 4.5 5.0 4.5\n",
      "  4.5 4.5 5.5]\n",
      " [0.0 0.0 0.0 1.0 0.0 0.0 0.0 1.0 0.0 0.0 0.0 5.0 5.0 5.0 4.5 4.0 4.5 5.0\n",
      "  5.5 5.0]\n",
      " [0.0 1.0 1.0 0.0 0.0 0.0 0.0 1.0 1.0 0.0 0.0 5.0 4.0 4.5 5.0 4.5 5.0 4.5\n",
      "  6.0 4.5]\n",
      " [0.0 1.0 0.0 0.0 0.0 0.0 0.0 0.0 1.0 0.0 0.0 5.0 5.0 5.0 5.0 6.0 5.5 5.0\n",
      "  5.5 5.25]\n",
      " [1.0 0.0 0.0 0.0 0.0 1.0 0.0 1.0 0.0 0.0 0.0 3.0 4.5 4.5 5.0 5.5 4.0 4.0\n",
      "  4.5 5.25]\n",
      " [1.0 0.0 0.0 0.0 0.0 1.0 0.0 1.0 0.0 0.0 0.0 4.5 3.5 5.0 4.5 4.5 4.5 4.0\n",
      "  4.0 4.75]]\n"
     ]
    }
   ],
   "execution_count": 132
  },
  {
   "metadata": {},
   "cell_type": "markdown",
   "source": "## Aufteilung in Trainings- und Testset",
   "id": "65d60abcea8f34f8"
  },
  {
   "metadata": {
    "ExecuteTime": {
     "end_time": "2025-05-10T10:09:25.604335Z",
     "start_time": "2025-05-10T10:09:25.590336Z"
    }
   },
   "cell_type": "code",
   "source": [
    "from sklearn.model_selection import train_test_split\n",
    "X_train, X_test, y_train, y_test = train_test_split(X, y, test_size=0.2, random_state=1)"
   ],
   "id": "fd97f304754f0e2c",
   "outputs": [],
   "execution_count": 133
  },
  {
   "metadata": {
    "ExecuteTime": {
     "end_time": "2025-05-10T10:09:25.662659Z",
     "start_time": "2025-05-10T10:09:25.652463Z"
    }
   },
   "cell_type": "code",
   "source": "print(X_train)",
   "id": "48b8764478b849eb",
   "outputs": [
    {
     "name": "stdout",
     "output_type": "stream",
     "text": [
      "[[0.0 0.0 0.0 0.0 0.0 0.0 0.0 0.0 0.0 0.0 1.0 4.5 5.5 5.5 5.0 5.5 5.5 6.0\n",
      "  5.5 6.0]\n",
      " [1.0 0.0 0.0 0.0 0.0 1.0 0.0 1.0 0.0 0.0 0.0 3.0 4.5 4.5 5.0 5.5 4.0 4.0\n",
      "  4.5 5.25]\n",
      " [0.0 0.0 0.0 0.0 1.0 0.0 1.0 0.0 0.0 0.0 0.0 5.0 5.5 5.0 4.75 5.5 5.0\n",
      "  5.5 6.0 5.75]\n",
      " [0.0 1.0 1.0 0.0 0.0 0.0 0.0 1.0 1.0 0.0 0.0 5.0 4.0 4.5 5.0 4.5 5.0 4.5\n",
      "  6.0 4.5]\n",
      " [0.0 0.0 0.0 1.0 0.0 0.0 0.0 1.0 0.0 0.0 0.0 5.0 5.0 5.0 4.5 4.0 4.5 5.0\n",
      "  5.5 5.0]\n",
      " [0.0 1.0 0.0 0.0 0.0 0.0 0.0 0.0 1.0 0.0 0.0 5.0 5.0 5.0 5.0 6.0 5.5 5.0\n",
      "  5.5 5.25]]\n"
     ]
    }
   ],
   "execution_count": 134
  },
  {
   "metadata": {
    "ExecuteTime": {
     "end_time": "2025-05-10T10:09:25.733780Z",
     "start_time": "2025-05-10T10:09:25.721778Z"
    }
   },
   "cell_type": "code",
   "source": "print(X_test)",
   "id": "c9eaddd35dcd8c9b",
   "outputs": [
    {
     "name": "stdout",
     "output_type": "stream",
     "text": [
      "[[1.0 0.0 0.0 0.0 0.0 1.0 0.0 1.0 0.0 0.0 0.0 4.5 3.5 5.0 4.5 4.5 4.5 4.0\n",
      "  4.0 4.75]\n",
      " [1.0 0.0 0.0 0.0 1.0 0.0 0.0 1.0 0.0 1.0 0.0 4.57 4.5 3.5 4.5 5.0 4.5\n",
      "  4.5 4.5 5.5]]\n"
     ]
    }
   ],
   "execution_count": 135
  },
  {
   "metadata": {
    "ExecuteTime": {
     "end_time": "2025-05-10T10:09:25.812459Z",
     "start_time": "2025-05-10T10:09:25.804779Z"
    }
   },
   "cell_type": "code",
   "source": "print(y_train)",
   "id": "ec5d829f8a9975d3",
   "outputs": [
    {
     "name": "stdout",
     "output_type": "stream",
     "text": [
      "[1.  0.  1.  0.5 1.  0.5]\n"
     ]
    }
   ],
   "execution_count": 136
  },
  {
   "metadata": {
    "ExecuteTime": {
     "end_time": "2025-05-10T10:09:25.981243Z",
     "start_time": "2025-05-10T10:09:25.972591Z"
    }
   },
   "cell_type": "code",
   "source": "print(y_test)",
   "id": "690f0e4ec9c37f90",
   "outputs": [
    {
     "name": "stdout",
     "output_type": "stream",
     "text": [
      "[0.5 0. ]\n"
     ]
    }
   ],
   "execution_count": 137
  },
  {
   "metadata": {},
   "cell_type": "markdown",
   "source": "## Feature Scaling",
   "id": "e92aa5e7bf003d5b"
  },
  {
   "metadata": {
    "ExecuteTime": {
     "end_time": "2025-05-10T10:09:26.050769Z",
     "start_time": "2025-05-10T10:09:26.040772Z"
    }
   },
   "cell_type": "code",
   "source": [
    "from sklearn.preprocessing import StandardScaler\n",
    "startIndex = 10\n",
    "sc = StandardScaler()\n",
    "X_train[:, startIndex:] = sc.fit_transform(X_train[:, startIndex:])\n",
    "X_test[:, startIndex:] = sc.transform(X_test[:, startIndex:])"
   ],
   "id": "89842c71517a95c9",
   "outputs": [],
   "execution_count": 138
  },
  {
   "metadata": {
    "ExecuteTime": {
     "end_time": "2025-05-10T10:09:26.158377Z",
     "start_time": "2025-05-10T10:09:26.146382Z"
    }
   },
   "cell_type": "code",
   "source": [
    "import numpy as np\n",
    "\n",
    "X_train = X_train.astype(np.float64)\n",
    "X_test  = X_test .astype(np.float64)\n",
    "\n",
    "np.set_printoptions(precision=2, suppress=True)\n",
    "\n",
    "print(X_train)\n"
   ],
   "id": "6fb75140771373e2",
   "outputs": [
    {
     "name": "stdout",
     "output_type": "stream",
     "text": [
      "[[ 0.    0.    0.    0.    0.    0.    0.    0.    0.    0.    2.24 -0.11\n",
      "   1.09  1.7   0.65  0.49  1.09  1.55  0.    1.45]\n",
      " [ 1.    0.    0.    0.    0.    1.    0.    1.    0.    0.   -0.45 -2.17\n",
      "  -0.78 -1.21  0.65  0.49 -1.72 -1.55 -2.   -0.09]\n",
      " [ 0.    0.    0.    0.    1.    0.    1.    0.    0.    0.   -0.45  0.57\n",
      "   1.09  0.24 -0.65  0.49  0.16  0.77  1.    0.94]\n",
      " [ 0.    1.    1.    0.    0.    0.    0.    1.    1.    0.   -0.45  0.57\n",
      "  -1.72 -1.21  0.65 -0.97  0.16 -0.77  1.   -1.62]\n",
      " [ 0.    0.    0.    1.    0.    0.    0.    1.    0.    0.   -0.45  0.57\n",
      "   0.16  0.24 -1.96 -1.7  -0.78  0.    0.   -0.6 ]\n",
      " [ 0.    1.    0.    0.    0.    0.    0.    0.    1.    0.   -0.45  0.57\n",
      "   0.16  0.24  0.65  1.21  1.09  0.    0.   -0.09]]\n"
     ]
    }
   ],
   "execution_count": 139
  },
  {
   "metadata": {
    "ExecuteTime": {
     "end_time": "2025-05-10T10:09:26.296057Z",
     "start_time": "2025-05-10T10:09:26.285381Z"
    }
   },
   "cell_type": "code",
   "source": "print(X_test)",
   "id": "7c4435469097ade",
   "outputs": [
    {
     "name": "stdout",
     "output_type": "stream",
     "text": [
      "[[ 1.    0.    0.    0.    0.    1.    0.    1.    0.    0.   -0.45 -0.11\n",
      "  -2.65  0.24 -1.96 -0.97 -0.78 -1.55 -3.   -1.11]\n",
      " [ 1.    0.    0.    0.    1.    0.    0.    1.    0.    1.   -0.45 -0.02\n",
      "  -0.78 -4.12 -1.96 -0.24 -0.78 -0.77 -2.    0.43]]\n"
     ]
    }
   ],
   "execution_count": 140
  },
  {
   "metadata": {},
   "cell_type": "markdown",
   "source": "### Normalisierung",
   "id": "3b77a5d690ef0e25"
  },
  {
   "metadata": {
    "ExecuteTime": {
     "end_time": "2025-05-10T10:09:26.458229Z",
     "start_time": "2025-05-10T10:09:26.448653Z"
    }
   },
   "cell_type": "code",
   "source": [
    "# from sklearn.preprocessing import Normalizer\n",
    "#\n",
    "# nz = Normalizer()\n",
    "# X_train[:, startIndex:] = nz.fit_transform(X_train[:, startIndex:])\n",
    "# X_test[:, startIndex:] = nz.transform(X_test[:, startIndex:])"
   ],
   "id": "5121b5a4ead7ea9d",
   "outputs": [],
   "execution_count": 141
  },
  {
   "metadata": {
    "ExecuteTime": {
     "end_time": "2025-05-10T10:09:26.570287Z",
     "start_time": "2025-05-10T10:09:26.564289Z"
    }
   },
   "cell_type": "code",
   "source": "# print(X_train)",
   "id": "5369226145d5950b",
   "outputs": [],
   "execution_count": 142
  },
  {
   "metadata": {
    "ExecuteTime": {
     "end_time": "2025-05-10T10:09:26.656240Z",
     "start_time": "2025-05-10T10:09:26.648347Z"
    }
   },
   "cell_type": "code",
   "source": "# print(X_test)",
   "id": "fa448c5e7d9af36d",
   "outputs": [],
   "execution_count": 143
  },
  {
   "metadata": {},
   "cell_type": "markdown",
   "source": "## Simple Linear Regression",
   "id": "3a4778ed79ff6a7"
  },
  {
   "metadata": {},
   "cell_type": "markdown",
   "source": "### Training",
   "id": "64c2ba6aca638e69"
  },
  {
   "metadata": {
    "ExecuteTime": {
     "end_time": "2025-05-10T10:09:26.699539Z",
     "start_time": "2025-05-10T10:09:26.693520Z"
    }
   },
   "cell_type": "code",
   "source": [
    "# from sklearn.linear_model import LinearRegression\n",
    "# regressor = LinearRegression()\n",
    "# regressor.fit(X_train, y_train)"
   ],
   "id": "3d3906b72756f9b5",
   "outputs": [],
   "execution_count": 144
  },
  {
   "metadata": {},
   "cell_type": "markdown",
   "source": "### Testing",
   "id": "c9713e66698fae84"
  },
  {
   "metadata": {
    "ExecuteTime": {
     "end_time": "2025-05-10T10:09:26.785266Z",
     "start_time": "2025-05-10T10:09:26.777261Z"
    }
   },
   "cell_type": "code",
   "source": "# y_pred = regressor.predict(X_test)",
   "id": "5248295d2d9ab642",
   "outputs": [],
   "execution_count": 145
  },
  {
   "metadata": {},
   "cell_type": "markdown",
   "source": "### Testing Results",
   "id": "d29e6b4a7571415e"
  },
  {
   "metadata": {
    "ExecuteTime": {
     "end_time": "2025-05-10T10:09:26.809935Z",
     "start_time": "2025-05-10T10:09:26.802266Z"
    }
   },
   "cell_type": "code",
   "source": "# print(y_pred)",
   "id": "d099f1c162ad1b24",
   "outputs": [],
   "execution_count": 146
  },
  {
   "metadata": {
    "ExecuteTime": {
     "end_time": "2025-05-10T10:09:26.850052Z",
     "start_time": "2025-05-10T10:09:26.842946Z"
    }
   },
   "cell_type": "code",
   "source": "# print(y_test)",
   "id": "721054e92faf21e1",
   "outputs": [],
   "execution_count": 147
  },
  {
   "metadata": {},
   "cell_type": "markdown",
   "source": "## Multiple Linear Regression",
   "id": "2b21f7ea3b8dd1b1"
  },
  {
   "metadata": {},
   "cell_type": "markdown",
   "source": "### Training",
   "id": "dcfd81b1737bf762"
  },
  {
   "metadata": {
    "ExecuteTime": {
     "end_time": "2025-05-10T10:09:26.920722Z",
     "start_time": "2025-05-10T10:09:26.906724Z"
    }
   },
   "cell_type": "code",
   "source": [
    "from sklearn.linear_model import LinearRegression\n",
    "regressor = LinearRegression()\n",
    "regressor.fit(X_train, y_train)"
   ],
   "id": "8081f1c14451285f",
   "outputs": [
    {
     "data": {
      "text/plain": [
       "LinearRegression()"
      ],
      "text/html": [
       "<style>#sk-container-id-9 {\n",
       "  /* Definition of color scheme common for light and dark mode */\n",
       "  --sklearn-color-text: #000;\n",
       "  --sklearn-color-text-muted: #666;\n",
       "  --sklearn-color-line: gray;\n",
       "  /* Definition of color scheme for unfitted estimators */\n",
       "  --sklearn-color-unfitted-level-0: #fff5e6;\n",
       "  --sklearn-color-unfitted-level-1: #f6e4d2;\n",
       "  --sklearn-color-unfitted-level-2: #ffe0b3;\n",
       "  --sklearn-color-unfitted-level-3: chocolate;\n",
       "  /* Definition of color scheme for fitted estimators */\n",
       "  --sklearn-color-fitted-level-0: #f0f8ff;\n",
       "  --sklearn-color-fitted-level-1: #d4ebff;\n",
       "  --sklearn-color-fitted-level-2: #b3dbfd;\n",
       "  --sklearn-color-fitted-level-3: cornflowerblue;\n",
       "\n",
       "  /* Specific color for light theme */\n",
       "  --sklearn-color-text-on-default-background: var(--sg-text-color, var(--theme-code-foreground, var(--jp-content-font-color1, black)));\n",
       "  --sklearn-color-background: var(--sg-background-color, var(--theme-background, var(--jp-layout-color0, white)));\n",
       "  --sklearn-color-border-box: var(--sg-text-color, var(--theme-code-foreground, var(--jp-content-font-color1, black)));\n",
       "  --sklearn-color-icon: #696969;\n",
       "\n",
       "  @media (prefers-color-scheme: dark) {\n",
       "    /* Redefinition of color scheme for dark theme */\n",
       "    --sklearn-color-text-on-default-background: var(--sg-text-color, var(--theme-code-foreground, var(--jp-content-font-color1, white)));\n",
       "    --sklearn-color-background: var(--sg-background-color, var(--theme-background, var(--jp-layout-color0, #111)));\n",
       "    --sklearn-color-border-box: var(--sg-text-color, var(--theme-code-foreground, var(--jp-content-font-color1, white)));\n",
       "    --sklearn-color-icon: #878787;\n",
       "  }\n",
       "}\n",
       "\n",
       "#sk-container-id-9 {\n",
       "  color: var(--sklearn-color-text);\n",
       "}\n",
       "\n",
       "#sk-container-id-9 pre {\n",
       "  padding: 0;\n",
       "}\n",
       "\n",
       "#sk-container-id-9 input.sk-hidden--visually {\n",
       "  border: 0;\n",
       "  clip: rect(1px 1px 1px 1px);\n",
       "  clip: rect(1px, 1px, 1px, 1px);\n",
       "  height: 1px;\n",
       "  margin: -1px;\n",
       "  overflow: hidden;\n",
       "  padding: 0;\n",
       "  position: absolute;\n",
       "  width: 1px;\n",
       "}\n",
       "\n",
       "#sk-container-id-9 div.sk-dashed-wrapped {\n",
       "  border: 1px dashed var(--sklearn-color-line);\n",
       "  margin: 0 0.4em 0.5em 0.4em;\n",
       "  box-sizing: border-box;\n",
       "  padding-bottom: 0.4em;\n",
       "  background-color: var(--sklearn-color-background);\n",
       "}\n",
       "\n",
       "#sk-container-id-9 div.sk-container {\n",
       "  /* jupyter's `normalize.less` sets `[hidden] { display: none; }`\n",
       "     but bootstrap.min.css set `[hidden] { display: none !important; }`\n",
       "     so we also need the `!important` here to be able to override the\n",
       "     default hidden behavior on the sphinx rendered scikit-learn.org.\n",
       "     See: https://github.com/scikit-learn/scikit-learn/issues/21755 */\n",
       "  display: inline-block !important;\n",
       "  position: relative;\n",
       "}\n",
       "\n",
       "#sk-container-id-9 div.sk-text-repr-fallback {\n",
       "  display: none;\n",
       "}\n",
       "\n",
       "div.sk-parallel-item,\n",
       "div.sk-serial,\n",
       "div.sk-item {\n",
       "  /* draw centered vertical line to link estimators */\n",
       "  background-image: linear-gradient(var(--sklearn-color-text-on-default-background), var(--sklearn-color-text-on-default-background));\n",
       "  background-size: 2px 100%;\n",
       "  background-repeat: no-repeat;\n",
       "  background-position: center center;\n",
       "}\n",
       "\n",
       "/* Parallel-specific style estimator block */\n",
       "\n",
       "#sk-container-id-9 div.sk-parallel-item::after {\n",
       "  content: \"\";\n",
       "  width: 100%;\n",
       "  border-bottom: 2px solid var(--sklearn-color-text-on-default-background);\n",
       "  flex-grow: 1;\n",
       "}\n",
       "\n",
       "#sk-container-id-9 div.sk-parallel {\n",
       "  display: flex;\n",
       "  align-items: stretch;\n",
       "  justify-content: center;\n",
       "  background-color: var(--sklearn-color-background);\n",
       "  position: relative;\n",
       "}\n",
       "\n",
       "#sk-container-id-9 div.sk-parallel-item {\n",
       "  display: flex;\n",
       "  flex-direction: column;\n",
       "}\n",
       "\n",
       "#sk-container-id-9 div.sk-parallel-item:first-child::after {\n",
       "  align-self: flex-end;\n",
       "  width: 50%;\n",
       "}\n",
       "\n",
       "#sk-container-id-9 div.sk-parallel-item:last-child::after {\n",
       "  align-self: flex-start;\n",
       "  width: 50%;\n",
       "}\n",
       "\n",
       "#sk-container-id-9 div.sk-parallel-item:only-child::after {\n",
       "  width: 0;\n",
       "}\n",
       "\n",
       "/* Serial-specific style estimator block */\n",
       "\n",
       "#sk-container-id-9 div.sk-serial {\n",
       "  display: flex;\n",
       "  flex-direction: column;\n",
       "  align-items: center;\n",
       "  background-color: var(--sklearn-color-background);\n",
       "  padding-right: 1em;\n",
       "  padding-left: 1em;\n",
       "}\n",
       "\n",
       "\n",
       "/* Toggleable style: style used for estimator/Pipeline/ColumnTransformer box that is\n",
       "clickable and can be expanded/collapsed.\n",
       "- Pipeline and ColumnTransformer use this feature and define the default style\n",
       "- Estimators will overwrite some part of the style using the `sk-estimator` class\n",
       "*/\n",
       "\n",
       "/* Pipeline and ColumnTransformer style (default) */\n",
       "\n",
       "#sk-container-id-9 div.sk-toggleable {\n",
       "  /* Default theme specific background. It is overwritten whether we have a\n",
       "  specific estimator or a Pipeline/ColumnTransformer */\n",
       "  background-color: var(--sklearn-color-background);\n",
       "}\n",
       "\n",
       "/* Toggleable label */\n",
       "#sk-container-id-9 label.sk-toggleable__label {\n",
       "  cursor: pointer;\n",
       "  display: flex;\n",
       "  width: 100%;\n",
       "  margin-bottom: 0;\n",
       "  padding: 0.5em;\n",
       "  box-sizing: border-box;\n",
       "  text-align: center;\n",
       "  align-items: start;\n",
       "  justify-content: space-between;\n",
       "  gap: 0.5em;\n",
       "}\n",
       "\n",
       "#sk-container-id-9 label.sk-toggleable__label .caption {\n",
       "  font-size: 0.6rem;\n",
       "  font-weight: lighter;\n",
       "  color: var(--sklearn-color-text-muted);\n",
       "}\n",
       "\n",
       "#sk-container-id-9 label.sk-toggleable__label-arrow:before {\n",
       "  /* Arrow on the left of the label */\n",
       "  content: \"▸\";\n",
       "  float: left;\n",
       "  margin-right: 0.25em;\n",
       "  color: var(--sklearn-color-icon);\n",
       "}\n",
       "\n",
       "#sk-container-id-9 label.sk-toggleable__label-arrow:hover:before {\n",
       "  color: var(--sklearn-color-text);\n",
       "}\n",
       "\n",
       "/* Toggleable content - dropdown */\n",
       "\n",
       "#sk-container-id-9 div.sk-toggleable__content {\n",
       "  max-height: 0;\n",
       "  max-width: 0;\n",
       "  overflow: hidden;\n",
       "  text-align: left;\n",
       "  /* unfitted */\n",
       "  background-color: var(--sklearn-color-unfitted-level-0);\n",
       "}\n",
       "\n",
       "#sk-container-id-9 div.sk-toggleable__content.fitted {\n",
       "  /* fitted */\n",
       "  background-color: var(--sklearn-color-fitted-level-0);\n",
       "}\n",
       "\n",
       "#sk-container-id-9 div.sk-toggleable__content pre {\n",
       "  margin: 0.2em;\n",
       "  border-radius: 0.25em;\n",
       "  color: var(--sklearn-color-text);\n",
       "  /* unfitted */\n",
       "  background-color: var(--sklearn-color-unfitted-level-0);\n",
       "}\n",
       "\n",
       "#sk-container-id-9 div.sk-toggleable__content.fitted pre {\n",
       "  /* unfitted */\n",
       "  background-color: var(--sklearn-color-fitted-level-0);\n",
       "}\n",
       "\n",
       "#sk-container-id-9 input.sk-toggleable__control:checked~div.sk-toggleable__content {\n",
       "  /* Expand drop-down */\n",
       "  max-height: 200px;\n",
       "  max-width: 100%;\n",
       "  overflow: auto;\n",
       "}\n",
       "\n",
       "#sk-container-id-9 input.sk-toggleable__control:checked~label.sk-toggleable__label-arrow:before {\n",
       "  content: \"▾\";\n",
       "}\n",
       "\n",
       "/* Pipeline/ColumnTransformer-specific style */\n",
       "\n",
       "#sk-container-id-9 div.sk-label input.sk-toggleable__control:checked~label.sk-toggleable__label {\n",
       "  color: var(--sklearn-color-text);\n",
       "  background-color: var(--sklearn-color-unfitted-level-2);\n",
       "}\n",
       "\n",
       "#sk-container-id-9 div.sk-label.fitted input.sk-toggleable__control:checked~label.sk-toggleable__label {\n",
       "  background-color: var(--sklearn-color-fitted-level-2);\n",
       "}\n",
       "\n",
       "/* Estimator-specific style */\n",
       "\n",
       "/* Colorize estimator box */\n",
       "#sk-container-id-9 div.sk-estimator input.sk-toggleable__control:checked~label.sk-toggleable__label {\n",
       "  /* unfitted */\n",
       "  background-color: var(--sklearn-color-unfitted-level-2);\n",
       "}\n",
       "\n",
       "#sk-container-id-9 div.sk-estimator.fitted input.sk-toggleable__control:checked~label.sk-toggleable__label {\n",
       "  /* fitted */\n",
       "  background-color: var(--sklearn-color-fitted-level-2);\n",
       "}\n",
       "\n",
       "#sk-container-id-9 div.sk-label label.sk-toggleable__label,\n",
       "#sk-container-id-9 div.sk-label label {\n",
       "  /* The background is the default theme color */\n",
       "  color: var(--sklearn-color-text-on-default-background);\n",
       "}\n",
       "\n",
       "/* On hover, darken the color of the background */\n",
       "#sk-container-id-9 div.sk-label:hover label.sk-toggleable__label {\n",
       "  color: var(--sklearn-color-text);\n",
       "  background-color: var(--sklearn-color-unfitted-level-2);\n",
       "}\n",
       "\n",
       "/* Label box, darken color on hover, fitted */\n",
       "#sk-container-id-9 div.sk-label.fitted:hover label.sk-toggleable__label.fitted {\n",
       "  color: var(--sklearn-color-text);\n",
       "  background-color: var(--sklearn-color-fitted-level-2);\n",
       "}\n",
       "\n",
       "/* Estimator label */\n",
       "\n",
       "#sk-container-id-9 div.sk-label label {\n",
       "  font-family: monospace;\n",
       "  font-weight: bold;\n",
       "  display: inline-block;\n",
       "  line-height: 1.2em;\n",
       "}\n",
       "\n",
       "#sk-container-id-9 div.sk-label-container {\n",
       "  text-align: center;\n",
       "}\n",
       "\n",
       "/* Estimator-specific */\n",
       "#sk-container-id-9 div.sk-estimator {\n",
       "  font-family: monospace;\n",
       "  border: 1px dotted var(--sklearn-color-border-box);\n",
       "  border-radius: 0.25em;\n",
       "  box-sizing: border-box;\n",
       "  margin-bottom: 0.5em;\n",
       "  /* unfitted */\n",
       "  background-color: var(--sklearn-color-unfitted-level-0);\n",
       "}\n",
       "\n",
       "#sk-container-id-9 div.sk-estimator.fitted {\n",
       "  /* fitted */\n",
       "  background-color: var(--sklearn-color-fitted-level-0);\n",
       "}\n",
       "\n",
       "/* on hover */\n",
       "#sk-container-id-9 div.sk-estimator:hover {\n",
       "  /* unfitted */\n",
       "  background-color: var(--sklearn-color-unfitted-level-2);\n",
       "}\n",
       "\n",
       "#sk-container-id-9 div.sk-estimator.fitted:hover {\n",
       "  /* fitted */\n",
       "  background-color: var(--sklearn-color-fitted-level-2);\n",
       "}\n",
       "\n",
       "/* Specification for estimator info (e.g. \"i\" and \"?\") */\n",
       "\n",
       "/* Common style for \"i\" and \"?\" */\n",
       "\n",
       ".sk-estimator-doc-link,\n",
       "a:link.sk-estimator-doc-link,\n",
       "a:visited.sk-estimator-doc-link {\n",
       "  float: right;\n",
       "  font-size: smaller;\n",
       "  line-height: 1em;\n",
       "  font-family: monospace;\n",
       "  background-color: var(--sklearn-color-background);\n",
       "  border-radius: 1em;\n",
       "  height: 1em;\n",
       "  width: 1em;\n",
       "  text-decoration: none !important;\n",
       "  margin-left: 0.5em;\n",
       "  text-align: center;\n",
       "  /* unfitted */\n",
       "  border: var(--sklearn-color-unfitted-level-1) 1pt solid;\n",
       "  color: var(--sklearn-color-unfitted-level-1);\n",
       "}\n",
       "\n",
       ".sk-estimator-doc-link.fitted,\n",
       "a:link.sk-estimator-doc-link.fitted,\n",
       "a:visited.sk-estimator-doc-link.fitted {\n",
       "  /* fitted */\n",
       "  border: var(--sklearn-color-fitted-level-1) 1pt solid;\n",
       "  color: var(--sklearn-color-fitted-level-1);\n",
       "}\n",
       "\n",
       "/* On hover */\n",
       "div.sk-estimator:hover .sk-estimator-doc-link:hover,\n",
       ".sk-estimator-doc-link:hover,\n",
       "div.sk-label-container:hover .sk-estimator-doc-link:hover,\n",
       ".sk-estimator-doc-link:hover {\n",
       "  /* unfitted */\n",
       "  background-color: var(--sklearn-color-unfitted-level-3);\n",
       "  color: var(--sklearn-color-background);\n",
       "  text-decoration: none;\n",
       "}\n",
       "\n",
       "div.sk-estimator.fitted:hover .sk-estimator-doc-link.fitted:hover,\n",
       ".sk-estimator-doc-link.fitted:hover,\n",
       "div.sk-label-container:hover .sk-estimator-doc-link.fitted:hover,\n",
       ".sk-estimator-doc-link.fitted:hover {\n",
       "  /* fitted */\n",
       "  background-color: var(--sklearn-color-fitted-level-3);\n",
       "  color: var(--sklearn-color-background);\n",
       "  text-decoration: none;\n",
       "}\n",
       "\n",
       "/* Span, style for the box shown on hovering the info icon */\n",
       ".sk-estimator-doc-link span {\n",
       "  display: none;\n",
       "  z-index: 9999;\n",
       "  position: relative;\n",
       "  font-weight: normal;\n",
       "  right: .2ex;\n",
       "  padding: .5ex;\n",
       "  margin: .5ex;\n",
       "  width: min-content;\n",
       "  min-width: 20ex;\n",
       "  max-width: 50ex;\n",
       "  color: var(--sklearn-color-text);\n",
       "  box-shadow: 2pt 2pt 4pt #999;\n",
       "  /* unfitted */\n",
       "  background: var(--sklearn-color-unfitted-level-0);\n",
       "  border: .5pt solid var(--sklearn-color-unfitted-level-3);\n",
       "}\n",
       "\n",
       ".sk-estimator-doc-link.fitted span {\n",
       "  /* fitted */\n",
       "  background: var(--sklearn-color-fitted-level-0);\n",
       "  border: var(--sklearn-color-fitted-level-3);\n",
       "}\n",
       "\n",
       ".sk-estimator-doc-link:hover span {\n",
       "  display: block;\n",
       "}\n",
       "\n",
       "/* \"?\"-specific style due to the `<a>` HTML tag */\n",
       "\n",
       "#sk-container-id-9 a.estimator_doc_link {\n",
       "  float: right;\n",
       "  font-size: 1rem;\n",
       "  line-height: 1em;\n",
       "  font-family: monospace;\n",
       "  background-color: var(--sklearn-color-background);\n",
       "  border-radius: 1rem;\n",
       "  height: 1rem;\n",
       "  width: 1rem;\n",
       "  text-decoration: none;\n",
       "  /* unfitted */\n",
       "  color: var(--sklearn-color-unfitted-level-1);\n",
       "  border: var(--sklearn-color-unfitted-level-1) 1pt solid;\n",
       "}\n",
       "\n",
       "#sk-container-id-9 a.estimator_doc_link.fitted {\n",
       "  /* fitted */\n",
       "  border: var(--sklearn-color-fitted-level-1) 1pt solid;\n",
       "  color: var(--sklearn-color-fitted-level-1);\n",
       "}\n",
       "\n",
       "/* On hover */\n",
       "#sk-container-id-9 a.estimator_doc_link:hover {\n",
       "  /* unfitted */\n",
       "  background-color: var(--sklearn-color-unfitted-level-3);\n",
       "  color: var(--sklearn-color-background);\n",
       "  text-decoration: none;\n",
       "}\n",
       "\n",
       "#sk-container-id-9 a.estimator_doc_link.fitted:hover {\n",
       "  /* fitted */\n",
       "  background-color: var(--sklearn-color-fitted-level-3);\n",
       "}\n",
       "</style><div id=\"sk-container-id-9\" class=\"sk-top-container\"><div class=\"sk-text-repr-fallback\"><pre>LinearRegression()</pre><b>In a Jupyter environment, please rerun this cell to show the HTML representation or trust the notebook. <br />On GitHub, the HTML representation is unable to render, please try loading this page with nbviewer.org.</b></div><div class=\"sk-container\" hidden><div class=\"sk-item\"><div class=\"sk-estimator fitted sk-toggleable\"><input class=\"sk-toggleable__control sk-hidden--visually\" id=\"sk-estimator-id-9\" type=\"checkbox\" checked><label for=\"sk-estimator-id-9\" class=\"sk-toggleable__label fitted sk-toggleable__label-arrow\"><div><div>LinearRegression</div></div><div><a class=\"sk-estimator-doc-link fitted\" rel=\"noreferrer\" target=\"_blank\" href=\"https://scikit-learn.org/1.6/modules/generated/sklearn.linear_model.LinearRegression.html\">?<span>Documentation for LinearRegression</span></a><span class=\"sk-estimator-doc-link fitted\">i<span>Fitted</span></span></div></label><div class=\"sk-toggleable__content fitted\"><pre>LinearRegression()</pre></div> </div></div></div></div>"
      ]
     },
     "execution_count": 148,
     "metadata": {},
     "output_type": "execute_result"
    }
   ],
   "execution_count": 148
  },
  {
   "metadata": {},
   "cell_type": "markdown",
   "source": "### Prediction",
   "id": "65bb97ce04d55b61"
  },
  {
   "metadata": {
    "ExecuteTime": {
     "end_time": "2025-05-10T10:09:26.980064Z",
     "start_time": "2025-05-10T10:09:26.973247Z"
    }
   },
   "cell_type": "code",
   "source": "y_pred = regressor.predict(X_test)\n",
   "id": "585ea9c4d337f22",
   "outputs": [],
   "execution_count": 149
  },
  {
   "metadata": {},
   "cell_type": "markdown",
   "source": "### Print",
   "id": "b79f28145e6ec0bd"
  },
  {
   "metadata": {
    "ExecuteTime": {
     "end_time": "2025-05-10T10:09:27.065691Z",
     "start_time": "2025-05-10T10:09:27.057578Z"
    }
   },
   "cell_type": "code",
   "source": [
    "import numpy as np\n",
    "print(\n",
    "    np.concatenate(\n",
    "        (y_pred.reshape(len(y_pred), 1),\n",
    "         y_test.reshape(len(y_test ), 1)),\n",
    "        axis=1\n",
    "    )\n",
    ")"
   ],
   "id": "e8b9fcead484d95d",
   "outputs": [
    {
     "name": "stdout",
     "output_type": "stream",
     "text": [
      "[[0.31 0.5 ]\n",
      " [0.38 0.  ]]\n"
     ]
    }
   ],
   "execution_count": 150
  },
  {
   "metadata": {},
   "cell_type": "markdown",
   "source": "# Plotting",
   "id": "815a4add5fccaff8"
  },
  {
   "metadata": {
    "ExecuteTime": {
     "end_time": "2025-05-10T10:09:27.425166Z",
     "start_time": "2025-05-10T10:09:27.105688Z"
    }
   },
   "cell_type": "code",
   "source": [
    "import matplotlib.pyplot as plt\n",
    "import numpy as np\n",
    "\n",
    "# Angenommen, du hast beides schon berechnet:\n",
    "# y_test = np.array([...])\n",
    "# y_pred = np.array([...])\n",
    "\n",
    "plt.figure()\n",
    "plt.scatter(y_test, y_pred, marker='o')\n",
    "# Ideallinie y = x\n",
    "min_val = np.min([y_test.min(), y_pred.min()])\n",
    "max_val = np.max([y_test.max(), y_pred.max()])\n",
    "plt.plot([min_val, max_val], [min_val, max_val], 'r--', linewidth=1)\n",
    "\n",
    "plt.xlabel('Actual Bonus')\n",
    "plt.ylabel('Predicted Bonus')\n",
    "plt.title('Predicted vs. Actual')\n",
    "plt.grid(True)\n",
    "plt.show()\n"
   ],
   "id": "40aa6c3a4a4d06b6",
   "outputs": [
    {
     "data": {
      "text/plain": [
       "<Figure size 640x480 with 1 Axes>"
      ],
      "image/png": "[encoded data removed]"
     },
     "metadata": {},
     "output_type": "display_data"
    }
   ],
   "execution_count": 151
  },
  {
   "metadata": {},
   "cell_type": "markdown",
   "source": "#### Test for new Values",
   "id": "9fabd5a69fa1a467"
  },
  {
   "metadata": {
    "ExecuteTime": {
     "end_time": "2025-05-10T10:09:27.489590Z",
     "start_time": "2025-05-10T10:09:27.470687Z"
    }
   },
   "cell_type": "code",
   "source": [
    "## Expected Vs. Actual\n",
    "\n",
    "## vom test set\n",
    "\n",
    "y_pred2 = regressor.predict([[\n",
    "    1.0, 0.0, 0.0, 0.0, 0.0,\n",
    "    1.0, 0.0, 1.0, 0.0, 0.0,\n",
    "    -0.45, -0.11, -2.65, 0.24,\n",
    "    -1.96, -0.97, -0.78, -1.55,\n",
    "    -3.0, -1.11\n",
    "]])\n",
    "\n",
    "y_test2 = np.array([0.5])\n",
    "\n",
    "print(\n",
    "    np.concatenate(\n",
    "        (y_pred2.reshape(len(y_pred2), 1),\n",
    "         y_test2.reshape(len(y_test2 ), 1)),\n",
    "        axis=1\n",
    "    )\n",
    ")\n",
    "\n",
    "## vom training set\n",
    "\n",
    "y_pred2 = regressor.predict([[\n",
    "    0.0, 0.0, 0.0, 0.0, 1.0,\n",
    "    0.0, 1.0, 0.0, 0.0, 0.0,\n",
    "   -0.45, 0.57, 1.09, 0.24, -0.65,\n",
    "    0.49, 0.16, 0.77, 1.0, 0.94\n",
    "]])\n",
    "\n",
    "y_test2 = np.array([1])\n",
    "\n",
    "print(\n",
    "    np.concatenate(\n",
    "        (y_pred2.reshape(len(y_pred2), 1),\n",
    "         y_test2.reshape(len(y_test2 ), 1)),\n",
    "        axis=1\n",
    "    )\n",
    ")\n"
   ],
   "id": "c4bc9b9171beec32",
   "outputs": [
    {
     "name": "stdout",
     "output_type": "stream",
     "text": [
      "[[0.31 0.5 ]]\n",
      "[[1. 1.]]\n"
     ]
    }
   ],
   "execution_count": 152
  },
  {
   "metadata": {},
   "cell_type": "markdown",
   "source": "## Polynomial Regression",
   "id": "8d180b89702294a8"
  },
  {
   "metadata": {},
   "cell_type": "markdown",
   "source": "### Training",
   "id": "9f5672d4d6dca31b"
  },
  {
   "metadata": {
    "ExecuteTime": {
     "end_time": "2025-05-10T10:09:27.571741Z",
     "start_time": "2025-05-10T10:09:27.543103Z"
    }
   },
   "cell_type": "code",
   "source": [
    "from sklearn.preprocessing import PolynomialFeatures\n",
    "\n",
    "poly_reg = PolynomialFeatures(degree=3)\n",
    "X_poly = poly_reg.fit_transform(X_train)\n",
    "\n",
    "regressor = LinearRegression()\n",
    "regressor.fit(X_poly, y_train)"
   ],
   "id": "85cc274fcdcc913",
   "outputs": [
    {
     "data": {
      "text/plain": [
       "LinearRegression()"
      ],
      "text/html": [
       "<style>#sk-container-id-10 {\n",
       "  /* Definition of color scheme common for light and dark mode */\n",
       "  --sklearn-color-text: #000;\n",
       "  --sklearn-color-text-muted: #666;\n",
       "  --sklearn-color-line: gray;\n",
       "  /* Definition of color scheme for unfitted estimators */\n",
       "  --sklearn-color-unfitted-level-0: #fff5e6;\n",
       "  --sklearn-color-unfitted-level-1: #f6e4d2;\n",
       "  --sklearn-color-unfitted-level-2: #ffe0b3;\n",
       "  --sklearn-color-unfitted-level-3: chocolate;\n",
       "  /* Definition of color scheme for fitted estimators */\n",
       "  --sklearn-color-fitted-level-0: #f0f8ff;\n",
       "  --sklearn-color-fitted-level-1: #d4ebff;\n",
       "  --sklearn-color-fitted-level-2: #b3dbfd;\n",
       "  --sklearn-color-fitted-level-3: cornflowerblue;\n",
       "\n",
       "  /* Specific color for light theme */\n",
       "  --sklearn-color-text-on-default-background: var(--sg-text-color, var(--theme-code-foreground, var(--jp-content-font-color1, black)));\n",
       "  --sklearn-color-background: var(--sg-background-color, var(--theme-background, var(--jp-layout-color0, white)));\n",
       "  --sklearn-color-border-box: var(--sg-text-color, var(--theme-code-foreground, var(--jp-content-font-color1, black)));\n",
       "  --sklearn-color-icon: #696969;\n",
       "\n",
       "  @media (prefers-color-scheme: dark) {\n",
       "    /* Redefinition of color scheme for dark theme */\n",
       "    --sklearn-color-text-on-default-background: var(--sg-text-color, var(--theme-code-foreground, var(--jp-content-font-color1, white)));\n",
       "    --sklearn-color-background: var(--sg-background-color, var(--theme-background, var(--jp-layout-color0, #111)));\n",
       "    --sklearn-color-border-box: var(--sg-text-color, var(--theme-code-foreground, var(--jp-content-font-color1, white)));\n",
       "    --sklearn-color-icon: #878787;\n",
       "  }\n",
       "}\n",
       "\n",
       "#sk-container-id-10 {\n",
       "  color: var(--sklearn-color-text);\n",
       "}\n",
       "\n",
       "#sk-container-id-10 pre {\n",
       "  padding: 0;\n",
       "}\n",
       "\n",
       "#sk-container-id-10 input.sk-hidden--visually {\n",
       "  border: 0;\n",
       "  clip: rect(1px 1px 1px 1px);\n",
       "  clip: rect(1px, 1px, 1px, 1px);\n",
       "  height: 1px;\n",
       "  margin: -1px;\n",
       "  overflow: hidden;\n",
       "  padding: 0;\n",
       "  position: absolute;\n",
       "  width: 1px;\n",
       "}\n",
       "\n",
       "#sk-container-id-10 div.sk-dashed-wrapped {\n",
       "  border: 1px dashed var(--sklearn-color-line);\n",
       "  margin: 0 0.4em 0.5em 0.4em;\n",
       "  box-sizing: border-box;\n",
       "  padding-bottom: 0.4em;\n",
       "  background-color: var(--sklearn-color-background);\n",
       "}\n",
       "\n",
       "#sk-container-id-10 div.sk-container {\n",
       "  /* jupyter's `normalize.less` sets `[hidden] { display: none; }`\n",
       "     but bootstrap.min.css set `[hidden] { display: none !important; }`\n",
       "     so we also need the `!important` here to be able to override the\n",
       "     default hidden behavior on the sphinx rendered scikit-learn.org.\n",
       "     See: https://github.com/scikit-learn/scikit-learn/issues/21755 */\n",
       "  display: inline-block !important;\n",
       "  position: relative;\n",
       "}\n",
       "\n",
       "#sk-container-id-10 div.sk-text-repr-fallback {\n",
       "  display: none;\n",
       "}\n",
       "\n",
       "div.sk-parallel-item,\n",
       "div.sk-serial,\n",
       "div.sk-item {\n",
       "  /* draw centered vertical line to link estimators */\n",
       "  background-image: linear-gradient(var(--sklearn-color-text-on-default-background), var(--sklearn-color-text-on-default-background));\n",
       "  background-size: 2px 100%;\n",
       "  background-repeat: no-repeat;\n",
       "  background-position: center center;\n",
       "}\n",
       "\n",
       "/* Parallel-specific style estimator block */\n",
       "\n",
       "#sk-container-id-10 div.sk-parallel-item::after {\n",
       "  content: \"\";\n",
       "  width: 100%;\n",
       "  border-bottom: 2px solid var(--sklearn-color-text-on-default-background);\n",
       "  flex-grow: 1;\n",
       "}\n",
       "\n",
       "#sk-container-id-10 div.sk-parallel {\n",
       "  display: flex;\n",
       "  align-items: stretch;\n",
       "  justify-content: center;\n",
       "  background-color: var(--sklearn-color-background);\n",
       "  position: relative;\n",
       "}\n",
       "\n",
       "#sk-container-id-10 div.sk-parallel-item {\n",
       "  display: flex;\n",
       "  flex-direction: column;\n",
       "}\n",
       "\n",
       "#sk-container-id-10 div.sk-parallel-item:first-child::after {\n",
       "  align-self: flex-end;\n",
       "  width: 50%;\n",
       "}\n",
       "\n",
       "#sk-container-id-10 div.sk-parallel-item:last-child::after {\n",
       "  align-self: flex-start;\n",
       "  width: 50%;\n",
       "}\n",
       "\n",
       "#sk-container-id-10 div.sk-parallel-item:only-child::after {\n",
       "  width: 0;\n",
       "}\n",
       "\n",
       "/* Serial-specific style estimator block */\n",
       "\n",
       "#sk-container-id-10 div.sk-serial {\n",
       "  display: flex;\n",
       "  flex-direction: column;\n",
       "  align-items: center;\n",
       "  background-color: var(--sklearn-color-background);\n",
       "  padding-right: 1em;\n",
       "  padding-left: 1em;\n",
       "}\n",
       "\n",
       "\n",
       "/* Toggleable style: style used for estimator/Pipeline/ColumnTransformer box that is\n",
       "clickable and can be expanded/collapsed.\n",
       "- Pipeline and ColumnTransformer use this feature and define the default style\n",
       "- Estimators will overwrite some part of the style using the `sk-estimator` class\n",
       "*/\n",
       "\n",
       "/* Pipeline and ColumnTransformer style (default) */\n",
       "\n",
       "#sk-container-id-10 div.sk-toggleable {\n",
       "  /* Default theme specific background. It is overwritten whether we have a\n",
       "  specific estimator or a Pipeline/ColumnTransformer */\n",
       "  background-color: var(--sklearn-color-background);\n",
       "}\n",
       "\n",
       "/* Toggleable label */\n",
       "#sk-container-id-10 label.sk-toggleable__label {\n",
       "  cursor: pointer;\n",
       "  display: flex;\n",
       "  width: 100%;\n",
       "  margin-bottom: 0;\n",
       "  padding: 0.5em;\n",
       "  box-sizing: border-box;\n",
       "  text-align: center;\n",
       "  align-items: start;\n",
       "  justify-content: space-between;\n",
       "  gap: 0.5em;\n",
       "}\n",
       "\n",
       "#sk-container-id-10 label.sk-toggleable__label .caption {\n",
       "  font-size: 0.6rem;\n",
       "  font-weight: lighter;\n",
       "  color: var(--sklearn-color-text-muted);\n",
       "}\n",
       "\n",
       "#sk-container-id-10 label.sk-toggleable__label-arrow:before {\n",
       "  /* Arrow on the left of the label */\n",
       "  content: \"▸\";\n",
       "  float: left;\n",
       "  margin-right: 0.25em;\n",
       "  color: var(--sklearn-color-icon);\n",
       "}\n",
       "\n",
       "#sk-container-id-10 label.sk-toggleable__label-arrow:hover:before {\n",
       "  color: var(--sklearn-color-text);\n",
       "}\n",
       "\n",
       "/* Toggleable content - dropdown */\n",
       "\n",
       "#sk-container-id-10 div.sk-toggleable__content {\n",
       "  max-height: 0;\n",
       "  max-width: 0;\n",
       "  overflow: hidden;\n",
       "  text-align: left;\n",
       "  /* unfitted */\n",
       "  background-color: var(--sklearn-color-unfitted-level-0);\n",
       "}\n",
       "\n",
       "#sk-container-id-10 div.sk-toggleable__content.fitted {\n",
       "  /* fitted */\n",
       "  background-color: var(--sklearn-color-fitted-level-0);\n",
       "}\n",
       "\n",
       "#sk-container-id-10 div.sk-toggleable__content pre {\n",
       "  margin: 0.2em;\n",
       "  border-radius: 0.25em;\n",
       "  color: var(--sklearn-color-text);\n",
       "  /* unfitted */\n",
       "  background-color: var(--sklearn-color-unfitted-level-0);\n",
       "}\n",
       "\n",
       "#sk-container-id-10 div.sk-toggleable__content.fitted pre {\n",
       "  /* unfitted */\n",
       "  background-color: var(--sklearn-color-fitted-level-0);\n",
       "}\n",
       "\n",
       "#sk-container-id-10 input.sk-toggleable__control:checked~div.sk-toggleable__content {\n",
       "  /* Expand drop-down */\n",
       "  max-height: 200px;\n",
       "  max-width: 100%;\n",
       "  overflow: auto;\n",
       "}\n",
       "\n",
       "#sk-container-id-10 input.sk-toggleable__control:checked~label.sk-toggleable__label-arrow:before {\n",
       "  content: \"▾\";\n",
       "}\n",
       "\n",
       "/* Pipeline/ColumnTransformer-specific style */\n",
       "\n",
       "#sk-container-id-10 div.sk-label input.sk-toggleable__control:checked~label.sk-toggleable__label {\n",
       "  color: var(--sklearn-color-text);\n",
       "  background-color: var(--sklearn-color-unfitted-level-2);\n",
       "}\n",
       "\n",
       "#sk-container-id-10 div.sk-label.fitted input.sk-toggleable__control:checked~label.sk-toggleable__label {\n",
       "  background-color: var(--sklearn-color-fitted-level-2);\n",
       "}\n",
       "\n",
       "/* Estimator-specific style */\n",
       "\n",
       "/* Colorize estimator box */\n",
       "#sk-container-id-10 div.sk-estimator input.sk-toggleable__control:checked~label.sk-toggleable__label {\n",
       "  /* unfitted */\n",
       "  background-color: var(--sklearn-color-unfitted-level-2);\n",
       "}\n",
       "\n",
       "#sk-container-id-10 div.sk-estimator.fitted input.sk-toggleable__control:checked~label.sk-toggleable__label {\n",
       "  /* fitted */\n",
       "  background-color: var(--sklearn-color-fitted-level-2);\n",
       "}\n",
       "\n",
       "#sk-container-id-10 div.sk-label label.sk-toggleable__label,\n",
       "#sk-container-id-10 div.sk-label label {\n",
       "  /* The background is the default theme color */\n",
       "  color: var(--sklearn-color-text-on-default-background);\n",
       "}\n",
       "\n",
       "/* On hover, darken the color of the background */\n",
       "#sk-container-id-10 div.sk-label:hover label.sk-toggleable__label {\n",
       "  color: var(--sklearn-color-text);\n",
       "  background-color: var(--sklearn-color-unfitted-level-2);\n",
       "}\n",
       "\n",
       "/* Label box, darken color on hover, fitted */\n",
       "#sk-container-id-10 div.sk-label.fitted:hover label.sk-toggleable__label.fitted {\n",
       "  color: var(--sklearn-color-text);\n",
       "  background-color: var(--sklearn-color-fitted-level-2);\n",
       "}\n",
       "\n",
       "/* Estimator label */\n",
       "\n",
       "#sk-container-id-10 div.sk-label label {\n",
       "  font-family: monospace;\n",
       "  font-weight: bold;\n",
       "  display: inline-block;\n",
       "  line-height: 1.2em;\n",
       "}\n",
       "\n",
       "#sk-container-id-10 div.sk-label-container {\n",
       "  text-align: center;\n",
       "}\n",
       "\n",
       "/* Estimator-specific */\n",
       "#sk-container-id-10 div.sk-estimator {\n",
       "  font-family: monospace;\n",
       "  border: 1px dotted var(--sklearn-color-border-box);\n",
       "  border-radius: 0.25em;\n",
       "  box-sizing: border-box;\n",
       "  margin-bottom: 0.5em;\n",
       "  /* unfitted */\n",
       "  background-color: var(--sklearn-color-unfitted-level-0);\n",
       "}\n",
       "\n",
       "#sk-container-id-10 div.sk-estimator.fitted {\n",
       "  /* fitted */\n",
       "  background-color: var(--sklearn-color-fitted-level-0);\n",
       "}\n",
       "\n",
       "/* on hover */\n",
       "#sk-container-id-10 div.sk-estimator:hover {\n",
       "  /* unfitted */\n",
       "  background-color: var(--sklearn-color-unfitted-level-2);\n",
       "}\n",
       "\n",
       "#sk-container-id-10 div.sk-estimator.fitted:hover {\n",
       "  /* fitted */\n",
       "  background-color: var(--sklearn-color-fitted-level-2);\n",
       "}\n",
       "\n",
       "/* Specification for estimator info (e.g. \"i\" and \"?\") */\n",
       "\n",
       "/* Common style for \"i\" and \"?\" */\n",
       "\n",
       ".sk-estimator-doc-link,\n",
       "a:link.sk-estimator-doc-link,\n",
       "a:visited.sk-estimator-doc-link {\n",
       "  float: right;\n",
       "  font-size: smaller;\n",
       "  line-height: 1em;\n",
       "  font-family: monospace;\n",
       "  background-color: var(--sklearn-color-background);\n",
       "  border-radius: 1em;\n",
       "  height: 1em;\n",
       "  width: 1em;\n",
       "  text-decoration: none !important;\n",
       "  margin-left: 0.5em;\n",
       "  text-align: center;\n",
       "  /* unfitted */\n",
       "  border: var(--sklearn-color-unfitted-level-1) 1pt solid;\n",
       "  color: var(--sklearn-color-unfitted-level-1);\n",
       "}\n",
       "\n",
       ".sk-estimator-doc-link.fitted,\n",
       "a:link.sk-estimator-doc-link.fitted,\n",
       "a:visited.sk-estimator-doc-link.fitted {\n",
       "  /* fitted */\n",
       "  border: var(--sklearn-color-fitted-level-1) 1pt solid;\n",
       "  color: var(--sklearn-color-fitted-level-1);\n",
       "}\n",
       "\n",
       "/* On hover */\n",
       "div.sk-estimator:hover .sk-estimator-doc-link:hover,\n",
       ".sk-estimator-doc-link:hover,\n",
       "div.sk-label-container:hover .sk-estimator-doc-link:hover,\n",
       ".sk-estimator-doc-link:hover {\n",
       "  /* unfitted */\n",
       "  background-color: var(--sklearn-color-unfitted-level-3);\n",
       "  color: var(--sklearn-color-background);\n",
       "  text-decoration: none;\n",
       "}\n",
       "\n",
       "div.sk-estimator.fitted:hover .sk-estimator-doc-link.fitted:hover,\n",
       ".sk-estimator-doc-link.fitted:hover,\n",
       "div.sk-label-container:hover .sk-estimator-doc-link.fitted:hover,\n",
       ".sk-estimator-doc-link.fitted:hover {\n",
       "  /* fitted */\n",
       "  background-color: var(--sklearn-color-fitted-level-3);\n",
       "  color: var(--sklearn-color-background);\n",
       "  text-decoration: none;\n",
       "}\n",
       "\n",
       "/* Span, style for the box shown on hovering the info icon */\n",
       ".sk-estimator-doc-link span {\n",
       "  display: none;\n",
       "  z-index: 9999;\n",
       "  position: relative;\n",
       "  font-weight: normal;\n",
       "  right: .2ex;\n",
       "  padding: .5ex;\n",
       "  margin: .5ex;\n",
       "  width: min-content;\n",
       "  min-width: 20ex;\n",
       "  max-width: 50ex;\n",
       "  color: var(--sklearn-color-text);\n",
       "  box-shadow: 2pt 2pt 4pt #999;\n",
       "  /* unfitted */\n",
       "  background: var(--sklearn-color-unfitted-level-0);\n",
       "  border: .5pt solid var(--sklearn-color-unfitted-level-3);\n",
       "}\n",
       "\n",
       ".sk-estimator-doc-link.fitted span {\n",
       "  /* fitted */\n",
       "  background: var(--sklearn-color-fitted-level-0);\n",
       "  border: var(--sklearn-color-fitted-level-3);\n",
       "}\n",
       "\n",
       ".sk-estimator-doc-link:hover span {\n",
       "  display: block;\n",
       "}\n",
       "\n",
       "/* \"?\"-specific style due to the `<a>` HTML tag */\n",
       "\n",
       "#sk-container-id-10 a.estimator_doc_link {\n",
       "  float: right;\n",
       "  font-size: 1rem;\n",
       "  line-height: 1em;\n",
       "  font-family: monospace;\n",
       "  background-color: var(--sklearn-color-background);\n",
       "  border-radius: 1rem;\n",
       "  height: 1rem;\n",
       "  width: 1rem;\n",
       "  text-decoration: none;\n",
       "  /* unfitted */\n",
       "  color: var(--sklearn-color-unfitted-level-1);\n",
       "  border: var(--sklearn-color-unfitted-level-1) 1pt solid;\n",
       "}\n",
       "\n",
       "#sk-container-id-10 a.estimator_doc_link.fitted {\n",
       "  /* fitted */\n",
       "  border: var(--sklearn-color-fitted-level-1) 1pt solid;\n",
       "  color: var(--sklearn-color-fitted-level-1);\n",
       "}\n",
       "\n",
       "/* On hover */\n",
       "#sk-container-id-10 a.estimator_doc_link:hover {\n",
       "  /* unfitted */\n",
       "  background-color: var(--sklearn-color-unfitted-level-3);\n",
       "  color: var(--sklearn-color-background);\n",
       "  text-decoration: none;\n",
       "}\n",
       "\n",
       "#sk-container-id-10 a.estimator_doc_link.fitted:hover {\n",
       "  /* fitted */\n",
       "  background-color: var(--sklearn-color-fitted-level-3);\n",
       "}\n",
       "</style><div id=\"sk-container-id-10\" class=\"sk-top-container\"><div class=\"sk-text-repr-fallback\"><pre>LinearRegression()</pre><b>In a Jupyter environment, please rerun this cell to show the HTML representation or trust the notebook. <br />On GitHub, the HTML representation is unable to render, please try loading this page with nbviewer.org.</b></div><div class=\"sk-container\" hidden><div class=\"sk-item\"><div class=\"sk-estimator fitted sk-toggleable\"><input class=\"sk-toggleable__control sk-hidden--visually\" id=\"sk-estimator-id-10\" type=\"checkbox\" checked><label for=\"sk-estimator-id-10\" class=\"sk-toggleable__label fitted sk-toggleable__label-arrow\"><div><div>LinearRegression</div></div><div><a class=\"sk-estimator-doc-link fitted\" rel=\"noreferrer\" target=\"_blank\" href=\"https://scikit-learn.org/1.6/modules/generated/sklearn.linear_model.LinearRegression.html\">?<span>Documentation for LinearRegression</span></a><span class=\"sk-estimator-doc-link fitted\">i<span>Fitted</span></span></div></label><div class=\"sk-toggleable__content fitted\"><pre>LinearRegression()</pre></div> </div></div></div></div>"
      ]
     },
     "execution_count": 153,
     "metadata": {},
     "output_type": "execute_result"
    }
   ],
   "execution_count": 153
  },
  {
   "metadata": {
    "ExecuteTime": {
     "end_time": "2025-05-10T10:09:27.665281Z",
     "start_time": "2025-05-10T10:09:27.651278Z"
    }
   },
   "cell_type": "code",
   "source": "y_test_pred = regressor.predict(poly_reg.transform(X_test))",
   "id": "b083b2213c975822",
   "outputs": [],
   "execution_count": 154
  },
  {
   "metadata": {
    "ExecuteTime": {
     "end_time": "2025-05-10T10:09:27.724882Z",
     "start_time": "2025-05-10T10:09:27.711881Z"
    }
   },
   "cell_type": "code",
   "source": [
    "print(\"Prediction: \", y_test_pred)\n",
    "print(\"Actual: \", y_test)"
   ],
   "id": "de14f3cd48c85a3a",
   "outputs": [
    {
     "name": "stdout",
     "output_type": "stream",
     "text": [
      "Prediction:  [0.22 0.42]\n",
      "Actual:  [0.5 0. ]\n"
     ]
    }
   ],
   "execution_count": 155
  },
  {
   "metadata": {
    "ExecuteTime": {
     "end_time": "2025-05-10T10:09:27.788412Z",
     "start_time": "2025-05-10T10:09:27.780883Z"
    }
   },
   "cell_type": "code",
   "source": "",
   "id": "3b5bae36391acf63",
   "outputs": [],
   "execution_count": null
  },
  {
   "metadata": {
    "ExecuteTime": {
     "end_time": "2025-05-10T10:09:27.941754Z",
     "start_time": "2025-05-10T10:09:27.936556Z"
    }
   },
   "cell_type": "code",
   "source": "",
   "id": "3e180640343cbbfc",
   "outputs": [],
   "execution_count": null
  },
  {
   "metadata": {
    "ExecuteTime": {
     "end_time": "2025-05-10T10:09:27.957278Z",
     "start_time": "2025-05-10T10:09:27.952752Z"
    }
   },
   "cell_type": "code",
   "source": "",
   "id": "b985fc37954730f4",
   "outputs": [],
   "execution_count": null
  }
 ],
 "metadata": {
  "kernelspec": {
   "name": "python3",
   "language": "python",
   "display_name": "Python 3 (ipykernel)"
  }
 },
 "nbformat": 5,
 "nbformat_minor": 9
}
