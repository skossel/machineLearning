{
 "nbformat": 4,
 "nbformat_minor": 0,
 "metadata": {
  "colab": {
   "name": "upper_confidence_bound.ipynb",
   "provenance": [],
   "collapsed_sections": [],
   "authorship_tag": "ABX9TyM070CpUDOaHkkIWHwMqelP"
  },
  "kernelspec": {
   "name": "python3",
   "display_name": "Python 3 (ipykernel)",
   "language": "python"
  }
 },
 "cells": [
  {
   "cell_type": "markdown",
   "metadata": {
    "id": "QJdrJJQUv3-k",
    "colab_type": "text"
   },
   "source": [
    "# Upper Confidence Bound (UCB)"
   ]
  },
  {
   "cell_type": "markdown",
   "metadata": {
    "id": "2XCjepjJwEv-",
    "colab_type": "text"
   },
   "source": [
    "## Importing the libraries"
   ]
  },
  {
   "metadata": {
    "ExecuteTime": {
     "end_time": "2025-08-05T06:56:27.696069Z",
     "start_time": "2025-08-05T06:56:27.688091Z"
    }
   },
   "cell_type": "code",
   "source": [
    "import pandas as pd\n",
    "import matplotlib.pyplot as plt\n",
    "import numpy as np"
   ],
   "outputs": [],
   "execution_count": 94
  },
  {
   "cell_type": "markdown",
   "metadata": {
    "id": "npqlXjaNwYTv",
    "colab_type": "text"
   },
   "source": [
    "## Importing the dataset"
   ]
  },
  {
   "metadata": {
    "ExecuteTime": {
     "end_time": "2025-08-05T06:56:27.728611Z",
     "start_time": "2025-08-05T06:56:27.714032Z"
    }
   },
   "cell_type": "code",
   "source": [
    "# CTR: click threw rate for the add\n",
    "dataset = pd.read_csv('Ads_CTR_Optimisation.csv')"
   ],
   "outputs": [],
   "execution_count": 95
  },
  {
   "cell_type": "markdown",
   "metadata": {
    "id": "PaSbots_wfoB",
    "colab_type": "text"
   },
   "source": [
    "## Implementing UCB"
   ]
  },
  {
   "metadata": {
    "ExecuteTime": {
     "end_time": "2025-08-05T06:56:27.806519Z",
     "start_time": "2025-08-05T06:56:27.744951Z"
    }
   },
   "cell_type": "code",
   "source": [
    "import math\n",
    "\n",
    "# alle User\n",
    "N = 10000\n",
    "# Anzahl Ads\n",
    "d = 10\n",
    "# Liste der in jedem Druchlauf geklickten Ads\n",
    "ads_selected = []\n",
    "# wie of jede Anzeige insgesamt angezeigt wurde\n",
    "numbers_of_selections = [0] * d\n",
    "# Summe der Klicks pro Anzeige\n",
    "sums_of_rewards = [0] * d\n",
    "# Summe der Klicks für alle Anzeigen über alle Durchläufe\n",
    "total_reward = 0\n",
    "\n",
    "# Iteration über alle User\n",
    "for n in range(0, N):\n",
    "    # wird die Ad speichern, die in diesem Durchlauf angeklickt wurde\n",
    "    ad = 0\n",
    "    # hilft die potenziell beste Ad zu finden\n",
    "    max_upper_bound = 0\n",
    "    # Iteration pro User über alle Ads\n",
    "    for i in range(0, d):\n",
    "        # checkt, ob die Ad schon mal angeklickt wurde -> man würde sonst durch 0 teilen\n",
    "        if numbers_of_selections[i] > 0:\n",
    "            # Verhältnis wie oft die User auf die Ad geklickt haben zu allen angezeigten Ads\n",
    "            average_reward = sums_of_rewards[i] / numbers_of_selections[i]\n",
    "            # Unsicherheits-Term: wird kleiner, je öfter die Ad getestet wurde\n",
    "            delta_i = math.sqrt(3/2 * math.log(n + 1) / numbers_of_selections[i])\n",
    "            # Ad mit höchstem upper_bound Wert ist die Ad mit bester Performance\n",
    "            upper_bound = average_reward + delta_i\n",
    "            # Exploitation: Ad verwenden, die bisher viel angeklickt wurde, um viel Gewinn zu machen\n",
    "            # Exploration: Neue Ad ausprobieren, welche noch nicht viel getestet wurde, da diese möglicherweise eine bessere Performance aufweist\n",
    "        else:\n",
    "        # in else kommt man hinein, wenn die Ad noch nie angeklickt wurde\n",
    "            # der upper_bound Wert wird sehr hoch angesetzt, damit diese Ad die höchste Priorität hat, gewählt zu werden für den Durchlauf des aktuellen Users besitzt. Grund dafür, dass jede Ad einmal dem User gezeigt wird, bevor man sich auf getestete Ads stützt.\n",
    "            upper_bound = 1e400\n",
    "        # hier wird der höchste upper_bound bestimmt\n",
    "        if upper_bound > max_upper_bound:\n",
    "            # Ads, die noch nie angeklickt wurden (und im else statement landen) bekommen hier den max_upper_bound und werden beim nächsten User mit Sicherheit angezeigt\n",
    "            max_upper_bound = upper_bound\n",
    "            ad = i\n",
    "    # aktuelle Ad nummer vom aktuellen User -> append(3)\n",
    "    ads_selected.append(ad)\n",
    "    # es wurde eine Ad mehr dem User ausgestrahlt\n",
    "    numbers_of_selections[ad] += 1\n",
    "    # hier wird Wert geklickt(1 || 0) gemerkt\n",
    "    reward = dataset.values[n, ad]\n",
    "    # anzahl Klicks pro Ad um reward value erhöhen\n",
    "    sums_of_rewards[ad]  = sums_of_rewards[ad] + reward\n",
    "    # alle Klicks Ad übergreifend um reward value erhöhen\n",
    "    total_reward = total_reward + reward"
   ],
   "outputs": [],
   "execution_count": 96
  },
  {
   "cell_type": "markdown",
   "metadata": {
    "id": "AXftWcjDwsYj",
    "colab_type": "text"
   },
   "source": [
    "## Visualising the results"
   ]
  },
  {
   "metadata": {
    "ExecuteTime": {
     "end_time": "2025-08-05T06:56:27.911576Z",
     "start_time": "2025-08-05T06:56:27.824081Z"
    }
   },
   "cell_type": "code",
   "source": [
    "plt.hist(ads_selected)\n",
    "plt.title('Histogram of ads selections')\n",
    "plt.xlabel('Ads')\n",
    "plt.ylabel('Number of times each ad is selected')\n",
    "plt.show()"
   ],
   "outputs": [
    {
     "data": {
      "text/plain": [
       "<Figure size 640x480 with 1 Axes>"
      ],
      "image/png": "[encoded data removed]"
     },
     "metadata": {},
     "output_type": "display_data"
    }
   ],
   "execution_count": 97
  },
  {
   "metadata": {
    "ExecuteTime": {
     "end_time": "2025-08-05T06:56:27.930873Z",
     "start_time": "2025-08-05T06:56:27.928243Z"
    }
   },
   "cell_type": "code",
   "source": "",
   "outputs": [],
   "execution_count": null
  }
 ]
}
